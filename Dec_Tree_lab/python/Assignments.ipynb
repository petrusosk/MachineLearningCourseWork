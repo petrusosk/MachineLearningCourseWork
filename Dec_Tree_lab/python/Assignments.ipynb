{
 "cells": [
  {
   "cell_type": "code",
   "execution_count": 2,
   "metadata": {},
   "outputs": [],
   "source": [
    "import monkdata as m\n",
    "import pandas as pd\n",
    "import dtree as dt\n",
    "import drawtree_qt5 as draw\n",
    "import random\n",
    "import numpy as np\n",
    "import matplotlib.pyplot as plt"
   ]
  },
  {
   "cell_type": "markdown",
   "metadata": {},
   "source": [
    "## Assignment 0\n",
    "Q. Each one of the datasets has properties which makes them hard to learn. Motivate which of the three problems is most difficult for a decision tree algorithm to learn."
   ]
  },
  {
   "cell_type": "markdown",
   "metadata": {},
   "source": [
    "A. The condition for MONK-3 would be represented as a deeper tree. Therefore there should be more splits to be made one would therefore argue that it takes more time to learn. The lower number of trained dataset could be indicating that Monk-3 is also harder to learn. Moreover, there's misclassification of the training dataset of 5% - the noisiness can lead to overfit of the training data and further worse performance on the test data. Although, the most difficult one depends on how informative the training set which we haven't really looked into yet.  "
   ]
  },
  {
   "cell_type": "markdown",
   "metadata": {},
   "source": [
    "## Assignment 1\n",
    "\n",
    "Q. Assignment 1: The file dtree.py defines a function entropy which calculates the entropy of a dataset. Import this file along with the monks datasets and use it to calculate the entropy of the training datasets."
   ]
  },
  {
   "cell_type": "code",
   "execution_count": 45,
   "metadata": {},
   "outputs": [
    {
     "data": {
      "text/html": [
       "<div>\n",
       "<style scoped>\n",
       "    .dataframe tbody tr th:only-of-type {\n",
       "        vertical-align: middle;\n",
       "    }\n",
       "\n",
       "    .dataframe tbody tr th {\n",
       "        vertical-align: top;\n",
       "    }\n",
       "\n",
       "    .dataframe thead th {\n",
       "        text-align: right;\n",
       "    }\n",
       "</style>\n",
       "<table border=\"1\" class=\"dataframe\">\n",
       "  <thead>\n",
       "    <tr style=\"text-align: right;\">\n",
       "      <th></th>\n",
       "      <th>Entropy</th>\n",
       "    </tr>\n",
       "  </thead>\n",
       "  <tbody>\n",
       "    <tr>\n",
       "      <th>Monk1</th>\n",
       "      <td>1.000000</td>\n",
       "    </tr>\n",
       "    <tr>\n",
       "      <th>Monk2</th>\n",
       "      <td>0.957117</td>\n",
       "    </tr>\n",
       "    <tr>\n",
       "      <th>Monk3</th>\n",
       "      <td>0.999806</td>\n",
       "    </tr>\n",
       "  </tbody>\n",
       "</table>\n",
       "</div>"
      ],
      "text/plain": [
       "        Entropy\n",
       "Monk1  1.000000\n",
       "Monk2  0.957117\n",
       "Monk3  0.999806"
      ]
     },
     "execution_count": 45,
     "metadata": {},
     "output_type": "execute_result"
    }
   ],
   "source": [
    "#calculating entroy of each dataset\n",
    "m1 = dt.entropy(m.monk1)\n",
    "m2 = dt.entropy(m.monk2)\n",
    "m3 = dt.entropy(m.monk3)\n",
    "\n",
    "#visualizing entropy\n",
    "df = pd.DataFrame([m1,m2,m3])\n",
    "df.columns = ['Entropy']\n",
    "new_index = {0: 'Monk1', 1:'Monk2', 2:'Monk3'}\n",
    "df.rename(index = new_index)"
   ]
  },
  {
   "cell_type": "markdown",
   "metadata": {},
   "source": [
    "## Assignment 2\n",
    "Q. Explain entropy for a uniform distribution and a non-uniform distribution, present some example distributions with high and low entropy"
   ]
  },
  {
   "cell_type": "markdown",
   "metadata": {},
   "source": [
    "A. In a uniform distribution, the probability of each event is the same. The entropy then reaches is the highest value at 1, indicating the lowest possible purity. The entropy at 1 is also associated with no information gain as each event would be equally likely in 'a split'.\n",
    "\n",
    "On the other hand, in a non-uniform distribution, the entropy is below 1 and there would actually be some information gain. The further away from 1, meaning lower the entropy, the more information gain and also result in higher purity for 'a split'."
   ]
  },
  {
   "cell_type": "markdown",
   "metadata": {},
   "source": [
    "## Assignment 3\n",
    "Q. Use the function averageGain (defined in dtree.py) to calculate the expected information gain corresponding to each of the six attributes. Note that the attributes are represented as in- stances of the class Attribute (defined in monkdata.py) which you can access via m.attributes[0], ..., m.attributes[5]. Based on the results, which attribute should be used for splitting the examples at the root node?"
   ]
  },
  {
   "cell_type": "code",
   "execution_count": 46,
   "metadata": {},
   "outputs": [
    {
     "data": {
      "text/html": [
       "<div>\n",
       "<style scoped>\n",
       "    .dataframe tbody tr th:only-of-type {\n",
       "        vertical-align: middle;\n",
       "    }\n",
       "\n",
       "    .dataframe tbody tr th {\n",
       "        vertical-align: top;\n",
       "    }\n",
       "\n",
       "    .dataframe thead th {\n",
       "        text-align: right;\n",
       "    }\n",
       "</style>\n",
       "<table border=\"1\" class=\"dataframe\">\n",
       "  <thead>\n",
       "    <tr style=\"text-align: right;\">\n",
       "      <th></th>\n",
       "      <th>a1</th>\n",
       "      <th>a2</th>\n",
       "      <th>a3</th>\n",
       "      <th>a4</th>\n",
       "      <th>a5</th>\n",
       "      <th>a6</th>\n",
       "    </tr>\n",
       "  </thead>\n",
       "  <tbody>\n",
       "    <tr>\n",
       "      <th>Monk1</th>\n",
       "      <td>0.075273</td>\n",
       "      <td>0.005838</td>\n",
       "      <td>0.004708</td>\n",
       "      <td>0.026312</td>\n",
       "      <td>0.287031</td>\n",
       "      <td>0.000758</td>\n",
       "    </tr>\n",
       "    <tr>\n",
       "      <th>Monk2</th>\n",
       "      <td>0.003756</td>\n",
       "      <td>0.002458</td>\n",
       "      <td>0.001056</td>\n",
       "      <td>0.015664</td>\n",
       "      <td>0.017277</td>\n",
       "      <td>0.006248</td>\n",
       "    </tr>\n",
       "    <tr>\n",
       "      <th>Monk3</th>\n",
       "      <td>0.007121</td>\n",
       "      <td>0.293736</td>\n",
       "      <td>0.000831</td>\n",
       "      <td>0.002892</td>\n",
       "      <td>0.255912</td>\n",
       "      <td>0.007077</td>\n",
       "    </tr>\n",
       "  </tbody>\n",
       "</table>\n",
       "</div>"
      ],
      "text/plain": [
       "             a1        a2        a3        a4        a5        a6\n",
       "Monk1  0.075273  0.005838  0.004708  0.026312  0.287031  0.000758\n",
       "Monk2  0.003756  0.002458  0.001056  0.015664  0.017277  0.006248\n",
       "Monk3  0.007121  0.293736  0.000831  0.002892  0.255912  0.007077"
      ]
     },
     "execution_count": 46,
     "metadata": {},
     "output_type": "execute_result"
    }
   ],
   "source": [
    "#List to append information gains \n",
    "m1_averageGain = []\n",
    "m2_averageGain = []\n",
    "m3_averageGain = []\n",
    "\n",
    "#Looping over the attr. and appending information gains to list\n",
    "for i in range(6):\n",
    "    m1_averageGain.append(dt.averageGain(m.monk1, m.attributes[i]))\n",
    "    \n",
    "for i in range(6):\n",
    "    m2_averageGain.append(dt.averageGain(m.monk2, m.attributes[i]))  \n",
    "    \n",
    "for i in range(6):\n",
    "    m3_averageGain.append(dt.averageGain(m.monk3, m.attributes[i])) \n",
    "\n",
    "#Visualizing information gains    \n",
    "df = pd.DataFrame([m1_averageGain,m2_averageGain,m3_averageGain])    \n",
    "df.columns = ['a1', 'a2', 'a3', 'a4', 'a5', 'a6']\n",
    "new_index = {0: 'Monk1', 1:'Monk2', 2:'Monk3'}\n",
    "df.rename(index = new_index)\n",
    "       "
   ]
  },
  {
   "cell_type": "markdown",
   "metadata": {},
   "source": [
    "## Assignment 4\n",
    "Q. For splitting we choose the attribute that maximizes the information gain, Eq.3. Looking at Eq.3 how does the entropy of the subsets, Sk, look like when the information gain is maximized? How can we motivate using the information gain as a heuristic for picking an attribute for splitting? Think about reduction in entropy after the split and what the entropy implies."
   ]
  },
  {
   "cell_type": "markdown",
   "metadata": {},
   "source": [
    "A. When the information gain is maximized, the entropy of the subsets must be minimized according to Eq.3. If there are 6 different attributes with different expected entropies, they're will also have their specific information gains. The one that has gained more information and therefore also has the lowest expected entropy, is the best one to train the model. So information gain can be used for picking what attribute to split on where one would choose the attribute with the highest information gain. The reason for this is as you split on the highest information gain, the next level will have the lowest possible entropy, and lower entropy means higher purity in the leaf nodes. The goal is to make splits that lead to higher purity in the leaf nodes which can be achieved by using information gain as a heuristic for picking an attribute."
   ]
  },
  {
   "cell_type": "markdown",
   "metadata": {},
   "source": [
    "## Build decision tree \n",
    "Split the monk1 data into subsets according to the selected attribute using the function select (again, defined in dtree.py) and compute the infor- mation gains for the nodes on the next level of the tree. Which attributes should be tested for these nodes?\n",
    "\n",
    "For the monk1 data draw the decision tree up to the first two levels and assign the majority class of the subsets that resulted from the two splits to the leaf nodes. You can use the predefined function mostCommon (in dtree.py) to obtain the majority class for a dataset.\n",
    "\n",
    "Now compare your results with that of a predefined routine for ID3. Use the function buildTree(data, m.attributes) to build the decision tree. If you pass a third, optional, parameter to buildTree, you can limit the depth of the generated tree."
   ]
  },
  {
   "cell_type": "code",
   "execution_count": 82,
   "metadata": {},
   "outputs": [
    {
     "data": {
      "text/html": [
       "<div>\n",
       "<style scoped>\n",
       "    .dataframe tbody tr th:only-of-type {\n",
       "        vertical-align: middle;\n",
       "    }\n",
       "\n",
       "    .dataframe tbody tr th {\n",
       "        vertical-align: top;\n",
       "    }\n",
       "\n",
       "    .dataframe thead th {\n",
       "        text-align: right;\n",
       "    }\n",
       "</style>\n",
       "<table border=\"1\" class=\"dataframe\">\n",
       "  <thead>\n",
       "    <tr style=\"text-align: right;\">\n",
       "      <th></th>\n",
       "      <th>a1</th>\n",
       "      <th>a2</th>\n",
       "      <th>a3</th>\n",
       "      <th>a4</th>\n",
       "      <th>a5</th>\n",
       "      <th>a6</th>\n",
       "    </tr>\n",
       "  </thead>\n",
       "  <tbody>\n",
       "    <tr>\n",
       "      <th>0</th>\n",
       "      <td>0.000000</td>\n",
       "      <td>0.000000</td>\n",
       "      <td>0.000000</td>\n",
       "      <td>0.000000</td>\n",
       "      <td>0.0</td>\n",
       "      <td>0.000000</td>\n",
       "    </tr>\n",
       "    <tr>\n",
       "      <th>1</th>\n",
       "      <td>0.040217</td>\n",
       "      <td>0.015063</td>\n",
       "      <td>0.037273</td>\n",
       "      <td>0.048892</td>\n",
       "      <td>0.0</td>\n",
       "      <td>0.025807</td>\n",
       "    </tr>\n",
       "    <tr>\n",
       "      <th>2</th>\n",
       "      <td>0.033055</td>\n",
       "      <td>0.002197</td>\n",
       "      <td>0.017982</td>\n",
       "      <td>0.019123</td>\n",
       "      <td>0.0</td>\n",
       "      <td>0.045109</td>\n",
       "    </tr>\n",
       "    <tr>\n",
       "      <th>3</th>\n",
       "      <td>0.206291</td>\n",
       "      <td>0.033898</td>\n",
       "      <td>0.025906</td>\n",
       "      <td>0.075933</td>\n",
       "      <td>0.0</td>\n",
       "      <td>0.003324</td>\n",
       "    </tr>\n",
       "  </tbody>\n",
       "</table>\n",
       "</div>"
      ],
      "text/plain": [
       "         a1        a2        a3        a4   a5        a6\n",
       "0  0.000000  0.000000  0.000000  0.000000  0.0  0.000000\n",
       "1  0.040217  0.015063  0.037273  0.048892  0.0  0.025807\n",
       "2  0.033055  0.002197  0.017982  0.019123  0.0  0.045109\n",
       "3  0.206291  0.033898  0.025906  0.075933  0.0  0.003324"
      ]
     },
     "execution_count": 82,
     "metadata": {},
     "output_type": "execute_result"
    }
   ],
   "source": [
    "#Splitting the monk1 dataset into Split the monk1 data into subsets according to the selected attribute\n",
    "#Select: returns a subset of data samples where the attribute has the given value \n",
    "monk1_subset_1 = dt.select(m.monk1, dt.bestAttribute(m.monk1, m.attributes), 1)\n",
    "monk1_subset_2 = dt.select(m.monk1, dt.bestAttribute(m.monk1, m.attributes), 2)\n",
    "monk1_subset_3 = dt.select(m.monk1, dt.bestAttribute(m.monk1, m.attributes), 3)\n",
    "monk1_subset_4 = dt.select(m.monk1, dt.bestAttribute(m.monk1, m.attributes), 4)\n",
    "\n",
    "#Recompute the information gain for the 2nd node\n",
    "monk1_subset_1_averageGain = []\n",
    "monk1_subset_2_averageGain = []\n",
    "monk1_subset_3_averageGain = []\n",
    "monk1_subset_4_averageGain = []\n",
    "\n",
    "for i in range(6):\n",
    "    monk1_subset_1_averageGain.append(dt.averageGain(monk1_subset_1, m.attributes[i]))\n",
    "    monk1_subset_2_averageGain.append(dt.averageGain(monk1_subset_2, m.attributes[i]))\n",
    "    monk1_subset_3_averageGain.append(dt.averageGain(monk1_subset_3, m.attributes[i]))\n",
    "    monk1_subset_4_averageGain.append(dt.averageGain(monk1_subset_4, m.attributes[i]))    \n",
    "\n",
    "#Visualizing information gain\n",
    "df_monk1_subset_averageGain = pd.DataFrame([monk1_subset_1_averageGain, monk1_subset_2_averageGain,monk1_subset_3_averageGain,monk1_subset_4_averageGain])    \n",
    "df_monk1_subset_averageGain.columns = ['a1', 'a2', 'a3', 'a4', 'a5', 'a6']        \n",
    "#new_index = {0: : 'Monk1'}\n",
    "df_monk1_subset_averageGain.rename(index = new_index)"
   ]
  },
  {
   "cell_type": "code",
   "execution_count": 84,
   "metadata": {},
   "outputs": [
    {
     "name": "stdout",
     "output_type": "stream",
     "text": [
      "A1\n",
      "A4\n",
      "A6\n",
      "A1\n"
     ]
    }
   ],
   "source": [
    "print(dt.bestAttribute(monk1_subset_1, m.attributes))\n",
    "print(dt.bestAttribute(monk1_subset_2, m.attributes))\n",
    "print(dt.bestAttribute(monk1_subset_3, m.attributes))\n",
    "print(dt.bestAttribute(monk1_subset_4, m.attributes))"
   ]
  },
  {
   "cell_type": "code",
   "execution_count": 88,
   "metadata": {},
   "outputs": [
    {
     "name": "stdout",
     "output_type": "stream",
     "text": [
      "False\n"
     ]
    }
   ],
   "source": [
    "#Prints the most common class 'False/True'\n",
    "print(dt.mostCommon(m.monk1))\n",
    "\n",
    "#Build and draws tree for predefined routine for ID3\n",
    "ID3_tree = dt.buildTree(m.monk1, m.attributes, 2)\n",
    "#draw.drawTree(ID3_tree)"
   ]
  },
  {
   "cell_type": "markdown",
   "metadata": {},
   "source": [
    "## Assignment 5\n",
    "Build the full decision trees for all three Monk datasets using buildTree. Then, use the function check to meausure the performance of the decision tree on both the training and test datasets.\n",
    "\n",
    "For example to built a tree for monk1 and compute the performance on the test data you could use\n",
    "\n",
    "   import monkdata as m\n",
    "   \n",
    "   import dtree as d\n",
    "\n",
    "t=d.buildTree(m.monk1, m.attributes); print(d.check(t, m.monk1test))\n",
    "\n",
    "Compute the train and test set errors for the three Monk datasets for the full trees. Were your assumptions about the datasets correct? Explain the results you get for the training and test datasets.\n",
    " "
   ]
  },
  {
   "cell_type": "code",
   "execution_count": 5,
   "metadata": {},
   "outputs": [
    {
     "data": {
      "text/html": [
       "<div>\n",
       "<style scoped>\n",
       "    .dataframe tbody tr th:only-of-type {\n",
       "        vertical-align: middle;\n",
       "    }\n",
       "\n",
       "    .dataframe tbody tr th {\n",
       "        vertical-align: top;\n",
       "    }\n",
       "\n",
       "    .dataframe thead th {\n",
       "        text-align: right;\n",
       "    }\n",
       "</style>\n",
       "<table border=\"1\" class=\"dataframe\">\n",
       "  <thead>\n",
       "    <tr style=\"text-align: right;\">\n",
       "      <th></th>\n",
       "      <th>E_train</th>\n",
       "      <th>E_test</th>\n",
       "    </tr>\n",
       "  </thead>\n",
       "  <tbody>\n",
       "    <tr>\n",
       "      <th>Monk1</th>\n",
       "      <td>1.0</td>\n",
       "      <td>0.828704</td>\n",
       "    </tr>\n",
       "    <tr>\n",
       "      <th>Monk2</th>\n",
       "      <td>1.0</td>\n",
       "      <td>0.692130</td>\n",
       "    </tr>\n",
       "    <tr>\n",
       "      <th>Monk3</th>\n",
       "      <td>1.0</td>\n",
       "      <td>0.944444</td>\n",
       "    </tr>\n",
       "  </tbody>\n",
       "</table>\n",
       "</div>"
      ],
      "text/plain": [
       "       E_train    E_test\n",
       "Monk1      1.0  0.828704\n",
       "Monk2      1.0  0.692130\n",
       "Monk3      1.0  0.944444"
      ]
     },
     "execution_count": 5,
     "metadata": {},
     "output_type": "execute_result"
    }
   ],
   "source": [
    "# Assignment 5\n",
    "\n",
    "#Building decision trees for all three datasets\n",
    "t1=dt.buildTree(m.monk1, m.attributes)\n",
    "t2=dt.buildTree(m.monk2, m.attributes)\n",
    "t3=dt.buildTree(m.monk3, m.attributes)\n",
    "\n",
    "#Calculating performace \n",
    "m1_check = [dt.check(t1, m.monk1), dt.check(t1, m.monk1test)]\n",
    "m2_check = [dt.check(t2, m.monk2), dt.check(t2, m.monk2test)]\n",
    "m3_check = [dt.check(t3, m.monk3), dt.check(t3, m.monk3test)]\n",
    "\n",
    "#Vizualising training and test performance\n",
    "df_5 = pd.DataFrame([m1_check,m2_check,m3_check])\n",
    "df_5.columns = ['E_train', 'E_test']\n",
    "new_index = {0: 'Monk1', 1:'Monk2', 2:'Monk3'}\n",
    "df_5.rename(index = new_index)"
   ]
  },
  {
   "cell_type": "code",
   "execution_count": 90,
   "metadata": {},
   "outputs": [],
   "source": [
    "#draw.drawTree(t1)"
   ]
  },
  {
   "cell_type": "code",
   "execution_count": 92,
   "metadata": {},
   "outputs": [],
   "source": [
    "#draw.drawTree(t2)"
   ]
  },
  {
   "cell_type": "code",
   "execution_count": 2,
   "metadata": {},
   "outputs": [],
   "source": [
    "#draw.drawTree(t3)"
   ]
  },
  {
   "cell_type": "markdown",
   "metadata": {},
   "source": [
    "In Assignment 0 we predicted that Monk 3 would be hardest to train: the condition seemed more complex and that it would potentially result in a deeper tree, a.k.a. more splits to be made and therefore it takes more time to learn. When drawing the different decsion trees for the tree data set, in fact, it turns out that Monk-3 has the 'smallest' one. \n",
    "\n",
    "Therefore, going back to Table 2 where MONK3 showed the lowest number of trained dataset, it could indicate that MONK 3 is easier to learn but this also depends on the training dataset where it seems to be less overfit and less variance therefore performing better. So given the dataset used in this lab, MONK3 was the easiest to learn but for another training dataset it could have been different. Although it's interesting that the MONK3 performed best, contradictory to what we assumed in assignment 0."
   ]
  },
  {
   "cell_type": "markdown",
   "metadata": {},
   "source": [
    "## Pruning \n",
    "Write code which performs the complete pruning by repeatedly calling allPruned and picking the tree which gives the best classification perfor- mance on the validation dataset. You should stop pruning when all the pruned trees perform worse than the current candidate."
   ]
  },
  {
   "cell_type": "code",
   "execution_count": 6,
   "metadata": {},
   "outputs": [],
   "source": [
    "def partition(data, fraction):\n",
    "    \"Randomly reorders the data samples and returns the first and second parts separately\"\n",
    "    ldata = list(data)\n",
    "    random.shuffle(ldata)\n",
    "    breakPoint = int(len(ldata) * fraction) \n",
    "    return ldata[:breakPoint], ldata[breakPoint:]"
   ]
  },
  {
   "cell_type": "code",
   "execution_count": 7,
   "metadata": {},
   "outputs": [],
   "source": [
    "def pruningTreePerformance(dataset, fraction): \n",
    "    \"Performs complete pruning\"\n",
    "    \n",
    "    #Partition data and builds tree\n",
    "    train, val = partition(dataset, fraction)\n",
    "    current_tree = dt.buildTree(train, m.attributes) \n",
    "    \n",
    "    max_pruned_tree = 0 #Comparison performance variable\n",
    "    better = True #While loop condition\n",
    "    performance_list = [] #List for pruned tree performances\n",
    "\n",
    "    #Stop pruning when all the pruned trees performe worse than current tree\n",
    "    while(better):\n",
    "        for tree in dt.allPruned(current_tree):\n",
    "            old_tree = current_tree\n",
    "            performance = dt.check(tree, val) \n",
    "            performance_list.append(performance)    \n",
    "            if performance > max_pruned_tree:\n",
    "                max_pruned_tree = performance \n",
    "                current_tree = tree\n",
    "            if dt.check(old_tree, val) > max(performance_list):\n",
    "                better = False\n",
    "    return dt.check(old_tree, val)                       "
   ]
  },
  {
   "cell_type": "markdown",
   "metadata": {},
   "source": [
    "## Assignment 6\n",
    "Q. Explain pruning from a bias variance trade-off perspective."
   ]
  },
  {
   "cell_type": "markdown",
   "metadata": {},
   "source": [
    "A. As pruning is being applied, an optimal tree structure is being achieved by iteratively picking the pest performing tree until all pruned trees perform worse than the current tree which will be the resulting tree. In this process, we successively improve the performance on the validation part of the training data set. This means that during pruning the tree will perform more and more accurately on the training data set. This will make the model fitter to this data set and it will perform with less variance on the training data associated with lower bias. On the other hand, as the model becomes fitter to the training data, the variance of the model will go up. When it is overly fitted to the training data the tree will eventually perform with a high variance on the test set. "
   ]
  },
  {
   "cell_type": "markdown",
   "metadata": {},
   "source": [
    "## Assignment 7 \n",
    "Q Evaluate the effect pruning has on the test error for the monk1 and monk3 datasets, in particular determine the optimal partition into training and pruning by optimizing the parameter fraction. Plot the classification error on the test sets as a function of the parameter fraction 0:3; 0:4; 0:5; 0:6; 0:7; 0:8.\n",
    "\n",
    "Note that the split of the data is random. We therefore need to compute the statistics over several runs of the split to be able to draw any conclusions. Reasonable statistics includes mean and a measure of the spread. Do remember to print axes labels, legends and data points as you will not pass without them."
   ]
  },
  {
   "cell_type": "code",
   "execution_count": 50,
   "metadata": {},
   "outputs": [],
   "source": [
    "def performanceAndStatistics(dataset, fractionset):\n",
    "    \"Calculates statitics for pruning trees for certain train/val fractions\"\n",
    "    performance_statistics = []\n",
    "    for i in range(6):\n",
    "        iteration_list = []\n",
    "        for j in range(12):\n",
    "            performance = pruningTreePerformance(dataset, fractionset[i])\n",
    "            iteration_list.append(performance)   \n",
    "        performance_statistics.append(iteration_list)\n",
    "    return performance_statistics  "
   ]
  },
  {
   "cell_type": "code",
   "execution_count": 51,
   "metadata": {},
   "outputs": [],
   "source": [
    "#Extracting statistics for monk1 and monk3 data-set over fractions\n",
    "parameter_fractions = [0.3, 0.4, 0.5, 0.6, 0.7, 0.8]\n",
    "monk1_statistics = performanceAndStatistics(m.monk1, parameter_fractions)\n",
    "monk3_statistics = performanceAndStatistics(m.monk3, parameter_fractions)"
   ]
  },
  {
   "cell_type": "code",
   "execution_count": 58,
   "metadata": {},
   "outputs": [
    {
     "data": {
      "text/plain": [
       "Text(0.5, 1.0, 'Monk-1 and Monk-2 means')"
      ]
     },
     "execution_count": 58,
     "metadata": {},
     "output_type": "execute_result"
    },
    {
     "data": {
      "image/png": "[encoded data removed]",
      "text/plain": [
       "<Figure size 432x288 with 1 Axes>"
      ]
     },
     "metadata": {
      "needs_background": "light"
     },
     "output_type": "display_data"
    }
   ],
   "source": [
    "#Plotting scatterplot for monk1 and monk3\n",
    "\n",
    "#Extracts only mean values\n",
    "mean_list_monk1 = []\n",
    "mean_list_monk3 = []\n",
    "for statistics in monk1_statistics:\n",
    "    mean_list_monk1.append(np.mean(statistics))\n",
    "for statistics in monk3_statistics:\n",
    "    mean_list_monk3.append(np.mean(statistics))  \n",
    "    \n",
    "#Plotting\n",
    "plt.scatter(parameter_fractions, mean_list_monk1)\n",
    "plt.scatter(parameter_fractions, mean_list_monk3)\n",
    "plt.legend(('Monk1', 'Monk3'))\n",
    "plt.ylabel(\"Classification Error\")\n",
    "plt.xlabel(\"Fraction\")  \n",
    "plt.title('Monk-1 and Monk-2 means')"
   ]
  },
  {
   "cell_type": "code",
   "execution_count": 56,
   "metadata": {},
   "outputs": [
    {
     "data": {
      "text/plain": [
       "Text(0.5, 1.0, 'Monk-1 statistics')"
      ]
     },
     "execution_count": 56,
     "metadata": {},
     "output_type": "execute_result"
    },
    {
     "data": {
      "image/png": "[encoded data removed]",
      "text/plain": [
       "<Figure size 432x288 with 1 Axes>"
      ]
     },
     "metadata": {
      "needs_background": "light"
     },
     "output_type": "display_data"
    }
   ],
   "source": [
    "#Plotting boxplot for monk1 \n",
    "plt.boxplot(monk1_statistics)\n",
    "plt.xticks([1, 2, 3, 4, 5, 6], [0.3, 0.4, 0.5, 0.6, 0.7, 0.8])\n",
    "plt.ylabel(\"Classification Error\")\n",
    "plt.xlabel(\"Fraction\")\n",
    "plt.title('Monk-1 statistics')"
   ]
  },
  {
   "cell_type": "code",
   "execution_count": 57,
   "metadata": {},
   "outputs": [
    {
     "data": {
      "text/plain": [
       "Text(0.5, 1.0, 'Monk-3 statistics')"
      ]
     },
     "execution_count": 57,
     "metadata": {},
     "output_type": "execute_result"
    },
    {
     "data": {
      "image/png": "[encoded data removed]",
      "text/plain": [
       "<Figure size 432x288 with 1 Axes>"
      ]
     },
     "metadata": {
      "needs_background": "light"
     },
     "output_type": "display_data"
    }
   ],
   "source": [
    "#Plotting boxplot for monk1 \n",
    "plt.boxplot(monk3_statistics)\n",
    "plt.xticks([1, 2, 3, 4, 5, 6], [0.3, 0.4, 0.5, 0.6, 0.7, 0.8])\n",
    "plt.ylabel(\"Classification Error\")\n",
    "plt.xlabel(\"Fraction\")\n",
    "plt.title('Monk-3 statistics')"
   ]
  },
  {
   "cell_type": "code",
   "execution_count": null,
   "metadata": {},
   "outputs": [],
   "source": []
  }
 ],
 "metadata": {
  "kernelspec": {
   "display_name": "Python 3",
   "language": "python",
   "name": "python3"
  },
  "language_info": {
   "codemirror_mode": {
    "name": "ipython",
    "version": 3
   },
   "file_extension": ".py",
   "mimetype": "text/x-python",
   "name": "python",
   "nbconvert_exporter": "python",
   "pygments_lexer": "ipython3",
   "version": "3.8.5"
  },
  "toc": {
   "base_numbering": 1,
   "nav_menu": {},
   "number_sections": true,
   "sideBar": true,
   "skip_h1_title": false,
   "title_cell": "Table of Contents",
   "title_sidebar": "Contents",
   "toc_cell": false,
   "toc_position": {},
   "toc_section_display": true,
   "toc_window_display": false
  }
 },
 "nbformat": 4,
 "nbformat_minor": 4
}
