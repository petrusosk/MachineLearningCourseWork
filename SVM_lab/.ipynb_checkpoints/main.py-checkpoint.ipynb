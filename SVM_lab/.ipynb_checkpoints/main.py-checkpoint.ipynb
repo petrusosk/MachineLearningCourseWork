{
 "cells": [
  {
   "cell_type": "code",
   "execution_count": 5,
   "metadata": {},
   "outputs": [],
   "source": [
    "import numpy as np, random , math\n",
    "from scipy.optimize import minimize \n",
    "import matplotlib.pyplot as plt"
   ]
  },
  {
   "cell_type": "code",
   "execution_count": 6,
   "metadata": {},
   "outputs": [],
   "source": [
    "np.random.seed(100)\n",
    "\n",
    "classA = np.concatenate((\n",
    "    np.random.randn(10, 2) * 0.2 + [1.5, 0.5],\n",
    "    np.random.randn(10, 2) * 0.2 + [-1.5, 0.5]\n",
    "    ))\n",
    "classB=np.random.randn(20, 2) * 0.2 + [0.0, -0.5]\n",
    "\n",
    "inputs=np.concatenate((classA, classB))\n",
    "targets=np.concatenate(\n",
    "    (np.ones(classA.shape[0]), \n",
    "     -np.ones(classB.shape[0])))\n",
    "\n",
    "N = inputs.shape[0] # Number of rows (samples)\n",
    "\n",
    "permute = list(range(N))\n",
    "random.shuffle(permute)\n",
    "inputs = inputs[permute,:]\n",
    "targets = targets[permute]"
   ]
  },
  {
   "cell_type": "code",
   "execution_count": 8,
   "metadata": {},
   "outputs": [],
   "source": [
    "def linear_kernel(x, y):\n",
    "    \"\"\"Takes two data points as arguments and returns a “scalar product-like” similarity measure; a scalar value.\"\"\"\n",
    "    return np.dot(np.transpose(x),y)  "
   ]
  },
  {
   "cell_type": "code",
   "execution_count": 9,
   "metadata": {},
   "outputs": [],
   "source": [
    "def polynomial_kernel(x, y, p):\n",
    "    return np.pow((np.dot(np.transpose(x),y)+1), p)"
   ]
  },
  {
   "cell_type": "code",
   "execution_count": 14,
   "metadata": {},
   "outputs": [],
   "source": [
    "#ToDo: check linear algebra expression\n",
    "def radial_basis_function_kernel(datapoint_1, datapoint_2, sigma):\n",
    "    return math.exp(-math.pow(np.linalg.norm(np.subtract(x, y)), 2)/(2*math.pow(sigma,2))) "
   ]
  },
  {
   "cell_type": "code",
   "execution_count": 31,
   "metadata": {},
   "outputs": [],
   "source": [
    "pre_compute_matrix = np.zeros((N,N)) \n",
    "for i in range(N):\n",
    "    for j in range(N):\n",
    "        Pre_compute_matrix[i][j] = targets[i]*targets[j]*linear_kernel(inputs[i], inputs[j])     "
   ]
  },
  {
   "cell_type": "code",
   "execution_count": 34,
   "metadata": {},
   "outputs": [],
   "source": [
    "def obejctive(alpha):\n",
    "    result = 1/2*np.dot(aplha, np.dot(alpha, pre_compute_matrix))-np.sum(alpha)\n",
    "    return result"
   ]
  },
  {
   "cell_type": "code",
   "execution_count": 39,
   "metadata": {},
   "outputs": [],
   "source": [
    "def zerofun(alpha):\n",
    "    return np.sum(np.dot(alpha, target))"
   ]
  },
  {
   "cell_type": "code",
   "execution_count": 19,
   "metadata": {},
   "outputs": [],
   "source": [
    "#N=10\n",
    "#C=8\n",
    "#start = numpy.zeros(N)\n",
    "#bounds=[(0, C) for b in range(N)]\n",
    "#bounds=[(0, None) for b in range(N)]\n",
    "#a = [ expr for x in seq ]\n",
    "#constraint={'type':'eq', 'fun':zerofun}"
   ]
  },
  {
   "cell_type": "code",
   "execution_count": null,
   "metadata": {},
   "outputs": [],
   "source": []
  }
 ],
 "metadata": {
  "kernelspec": {
   "display_name": "Python 3",
   "language": "python",
   "name": "python3"
  },
  "language_info": {
   "codemirror_mode": {
    "name": "ipython",
    "version": 3
   },
   "file_extension": ".py",
   "mimetype": "text/x-python",
   "name": "python",
   "nbconvert_exporter": "python",
   "pygments_lexer": "ipython3",
   "version": "3.8.5"
  }
 },
 "nbformat": 4,
 "nbformat_minor": 4
}
