{
 "cells": [
  {
   "cell_type": "code",
   "execution_count": 1,
   "metadata": {},
   "outputs": [],
   "source": [
    "import numpy as np, random , math\n",
    "from scipy.optimize import minimize \n",
    "import matplotlib.pyplot as plt"
   ]
  },
  {
   "cell_type": "code",
   "execution_count": 2,
   "metadata": {},
   "outputs": [],
   "source": [
    "np.random.seed(100)\n",
    "\n",
    "classA = np.concatenate((\n",
    "    np.random.randn(10, 2) * 0.2 + [1.5, 0.5],\n",
    "    np.random.randn(10, 2) * 0.2 + [-1.5, 0.5]\n",
    "    ))\n",
    "classB=np.random.randn(20, 2) * 0.2 + [0.0, -0.5]\n",
    "\n",
    "inputs=np.concatenate((classA, classB))\n",
    "targets=np.concatenate(\n",
    "    (np.ones(classA.shape[0]), \n",
    "     -np.ones(classB.shape[0])))\n",
    "\n",
    "N = inputs.shape[0] # Number of rows (samples)\n",
    "\n",
    "permute = list(range(N))\n",
    "random.shuffle(permute)\n",
    "inputs = inputs[permute,:]\n",
    "targets = targets[permute]"
   ]
  },
  {
   "cell_type": "code",
   "execution_count": 3,
   "metadata": {},
   "outputs": [],
   "source": [
    "def linear_kernel(x, y):\n",
    "    \"\"\"Takes two data points as arguments and returns a “scalar product-like” similarity measure; a scalar value.\"\"\"\n",
    "    return np.dot(np.transpose(x),y)  "
   ]
  },
  {
   "cell_type": "code",
   "execution_count": 4,
   "metadata": {},
   "outputs": [],
   "source": [
    "def polynomial_kernel(x, y):\n",
    "    return math.pow((np.dot(np.transpose(x),y)+1), 3)"
   ]
  },
  {
   "cell_type": "code",
   "execution_count": 5,
   "metadata": {},
   "outputs": [],
   "source": [
    "#ToDo: check linear algebra expression\n",
    "def radial_basis_function_kernel(x,y):\n",
    "    return math.exp(-math.pow(np.linalg.norm(np.subtract(x, y)), 2)/(2*math.pow(4,2))) "
   ]
  },
  {
   "cell_type": "code",
   "execution_count": 6,
   "metadata": {},
   "outputs": [],
   "source": [
    "pre_compute_matrix = np.zeros((N,N))\n",
    "kernel = radial_basis_function_kernel\n",
    "for i in range(N):\n",
    "    for j in range(N):\n",
    "        pre_compute_matrix[i][j] = targets[i]*targets[j]*kernel(inputs[i], inputs[j])     "
   ]
  },
  {
   "cell_type": "code",
   "execution_count": 7,
   "metadata": {},
   "outputs": [],
   "source": [
    "def objective(alpha):\n",
    "    result = 1/2*np.dot(alpha, np.dot(alpha, pre_compute_matrix))-np.sum(alpha)\n",
    "    return result"
   ]
  },
  {
   "cell_type": "code",
   "execution_count": 8,
   "metadata": {},
   "outputs": [],
   "source": [
    "def zerofun(alpha):\n",
    "    return np.sum(np.dot(alpha, targets))"
   ]
  },
  {
   "cell_type": "code",
   "execution_count": 9,
   "metadata": {},
   "outputs": [],
   "source": [
    "C=10000\n",
    "start = np.zeros(N)\n",
    "B=[(0, C) for b in range(N)]\n",
    "#bounds=[(0, None) for b in range(N)]\n",
    "XC={'type':'eq', 'fun':zerofun}"
   ]
  },
  {
   "cell_type": "code",
   "execution_count": 10,
   "metadata": {},
   "outputs": [],
   "source": [
    "ret = minimize(objective, start,\n",
    "                bounds = B, constraints = XC)\n",
    "if(ret['success']):\n",
    "    alpha = ret['x']   "
   ]
  },
  {
   "cell_type": "code",
   "execution_count": 11,
   "metadata": {},
   "outputs": [
    {
     "data": {
      "text/plain": [
       "[(118.97818915377259, array([-0.3227157 , -0.20585723]), -1.0),\n",
       " (78.78560249947773, array([-1.26207555,  0.16187663]), 1.0),\n",
       " (40.19258665429449, array([1.41237288, 0.27633635]), 1.0)]"
      ]
     },
     "execution_count": 11,
     "metadata": {},
     "output_type": "execute_result"
    }
   ],
   "source": [
    "nonzero = [(alpha[i], inputs[i], targets[i]) \n",
    "           for i in range(N) if abs(alpha[i]) > 10e-5]\n",
    "nonzero"
   ]
  },
  {
   "cell_type": "code",
   "execution_count": 12,
   "metadata": {},
   "outputs": [],
   "source": [
    "#def bval(x,y):\n",
    "#    b = 0\n",
    "#    for alpha, inputs, targets in nonzero:\n",
    "#        b += np.dot(kernel(x,y), np.dot(alpha, targets))-nonzeros[[x,y]]\n",
    "#    return b\n",
    "\n",
    "\n",
    "def bval():\n",
    "    support_vector = nonzero[0][1]\n",
    "    t_support = nonzero[0][2]\n",
    "    bsum = 0\n",
    "    for val in nonzero:\n",
    "        bsum += val[0] * val[2] * kernel(support_vector, val[1])\n",
    "    return bsum - t_support\n"
   ]
  },
  {
   "cell_type": "code",
   "execution_count": 13,
   "metadata": {},
   "outputs": [],
   "source": [
    "#def indicator(x,y):\n",
    "#    total_sum = 0\n",
    "#    for alpha, inputs, targets in nonzero:\n",
    "#        total_sum += np.dot(kernel(x,y), np.dot(alpha, targets)\n",
    "#    return total_sum - bval(x,y)\n",
    "\n",
    "def indicator(x, y):\n",
    "    totsum = 0\n",
    "    for val in nonzero:\n",
    "        totsum += val[0] * val[2] * kernel([x, y], val[1])\n",
    "    return totsum - bval()"
   ]
  },
  {
   "cell_type": "code",
   "execution_count": 14,
   "metadata": {},
   "outputs": [
    {
     "data": {
      "image/png": "[encoded data removed]",
      "text/plain": [
       "<Figure size 432x288 with 1 Axes>"
      ]
     },
     "metadata": {
      "needs_background": "light"
     },
     "output_type": "display_data"
    }
   ],
   "source": [
    "%matplotlib inline\n",
    "\n",
    "plt.plot([p[0] for p in classA],\n",
    "        [p[1] for p in classA],\n",
    "        'b.')\n",
    "plt.plot([p[0] for p in classB],\n",
    "        [p[1] for p in classB],\n",
    "        'r.')\n",
    "\n",
    "xgrid=np.linspace(-5, 5)\n",
    "ygrid=np.linspace(-4, 4)\n",
    "\n",
    "grid=np.array([[indicator(x,y)\n",
    "                   for x in xgrid ]\n",
    "                  for y in ygrid])\n",
    "\n",
    "plt.contour(xgrid, ygrid, grid,\n",
    "             (-1.0, 0.0, 1.0),\n",
    "             colors=(\"red\", \"black\", \"blue\"),\n",
    "             linewidths=(1, 3, 1))\n",
    "\n",
    "plt.axis(\"equal\") # Force same scale on both axes\n",
    "plt.savefig(\"svmplot.pdf\") # Save a copy in a file\n",
    "plt.show() # Show the plot on the screen"
   ]
  },
  {
   "cell_type": "code",
   "execution_count": null,
   "metadata": {},
   "outputs": [],
   "source": []
  }
 ],
 "metadata": {
  "kernelspec": {
   "display_name": "Python 3",
   "language": "python",
   "name": "python3"
  },
  "language_info": {
   "codemirror_mode": {
    "name": "ipython",
    "version": 3
   },
   "file_extension": ".py",
   "mimetype": "text/x-python",
   "name": "python",
   "nbconvert_exporter": "python",
   "pygments_lexer": "ipython3",
   "version": "3.8.3"
  }
 },
 "nbformat": 4,
 "nbformat_minor": 4
}
