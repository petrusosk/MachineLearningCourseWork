{
 "cells": [
  {
   "cell_type": "code",
   "execution_count": 1,
   "metadata": {},
   "outputs": [],
   "source": [
    "import matplotlib.pyplot as plt\n",
    "import pandas as pd\n",
    "import numpy as np\n",
    "import seaborn as sns\n",
    "from scipy import stats\n",
    "from sklearn.preprocessing import MinMaxScaler\n",
    "from sklearn.preprocessing import StandardScaler"
   ]
  },
  {
   "cell_type": "markdown",
   "metadata": {},
   "source": [
    "# Data loading and info"
   ]
  },
  {
   "cell_type": "code",
   "execution_count": 2,
   "metadata": {},
   "outputs": [],
   "source": [
    "#Loads training data \n",
    "training = pd.read_csv('TrainOnMe.csv')"
   ]
  },
  {
   "cell_type": "code",
   "execution_count": 3,
   "metadata": {},
   "outputs": [
    {
     "data": {
      "text/html": [
       "<div>\n",
       "<style scoped>\n",
       "    .dataframe tbody tr th:only-of-type {\n",
       "        vertical-align: middle;\n",
       "    }\n",
       "\n",
       "    .dataframe tbody tr th {\n",
       "        vertical-align: top;\n",
       "    }\n",
       "\n",
       "    .dataframe thead th {\n",
       "        text-align: right;\n",
       "    }\n",
       "</style>\n",
       "<table border=\"1\" class=\"dataframe\">\n",
       "  <thead>\n",
       "    <tr style=\"text-align: right;\">\n",
       "      <th></th>\n",
       "      <th>id</th>\n",
       "      <th>y</th>\n",
       "      <th>x1</th>\n",
       "      <th>x2</th>\n",
       "      <th>x3</th>\n",
       "      <th>x4</th>\n",
       "      <th>x5</th>\n",
       "      <th>x6</th>\n",
       "      <th>x7</th>\n",
       "      <th>x8</th>\n",
       "      <th>x9</th>\n",
       "      <th>x10</th>\n",
       "    </tr>\n",
       "  </thead>\n",
       "  <tbody>\n",
       "    <tr>\n",
       "      <th>0</th>\n",
       "      <td>0</td>\n",
       "      <td>Bob</td>\n",
       "      <td>-0.78103</td>\n",
       "      <td>-0.63375</td>\n",
       "      <td>-0.03665</td>\n",
       "      <td>0.27517</td>\n",
       "      <td>False</td>\n",
       "      <td>F</td>\n",
       "      <td>-1.85755</td>\n",
       "      <td>0.22668</td>\n",
       "      <td>-2.35130</td>\n",
       "      <td>1.42092</td>\n",
       "    </tr>\n",
       "    <tr>\n",
       "      <th>1</th>\n",
       "      <td>1</td>\n",
       "      <td>Bob</td>\n",
       "      <td>0.42649</td>\n",
       "      <td>-0.50019</td>\n",
       "      <td>0.00696</td>\n",
       "      <td>0.11817</td>\n",
       "      <td>False</td>\n",
       "      <td>F</td>\n",
       "      <td>-1.73761</td>\n",
       "      <td>-1.61015</td>\n",
       "      <td>-5.12219</td>\n",
       "      <td>1.87723</td>\n",
       "    </tr>\n",
       "    <tr>\n",
       "      <th>2</th>\n",
       "      <td>2</td>\n",
       "      <td>Atsuto</td>\n",
       "      <td>1.86817</td>\n",
       "      <td>-0.45565</td>\n",
       "      <td>0.07658</td>\n",
       "      <td>0.09662</td>\n",
       "      <td>False</td>\n",
       "      <td>F</td>\n",
       "      <td>1.02798</td>\n",
       "      <td>-0.92326</td>\n",
       "      <td>-1.67111</td>\n",
       "      <td>2.07828</td>\n",
       "    </tr>\n",
       "    <tr>\n",
       "      <th>3</th>\n",
       "      <td>3</td>\n",
       "      <td>Atsuto</td>\n",
       "      <td>-1.80073</td>\n",
       "      <td>0.08535</td>\n",
       "      <td>-0.02467</td>\n",
       "      <td>0.14032</td>\n",
       "      <td>False</td>\n",
       "      <td>F</td>\n",
       "      <td>2.02793</td>\n",
       "      <td>-0.46318</td>\n",
       "      <td>2.41329</td>\n",
       "      <td>-0.62963</td>\n",
       "    </tr>\n",
       "    <tr>\n",
       "      <th>4</th>\n",
       "      <td>4</td>\n",
       "      <td>Bob</td>\n",
       "      <td>1.56943</td>\n",
       "      <td>-1.25860</td>\n",
       "      <td>-0.02092</td>\n",
       "      <td>0.22267</td>\n",
       "      <td>False</td>\n",
       "      <td>F</td>\n",
       "      <td>-0.43304</td>\n",
       "      <td>-1.99881</td>\n",
       "      <td>-1.58241</td>\n",
       "      <td>2.28423</td>\n",
       "    </tr>\n",
       "  </tbody>\n",
       "</table>\n",
       "</div>"
      ],
      "text/plain": [
       "  id       y        x1        x2       x3       x4     x5 x6       x7  \\\n",
       "0  0     Bob  -0.78103  -0.63375 -0.03665  0.27517  False  F -1.85755   \n",
       "1  1     Bob   0.42649  -0.50019  0.00696  0.11817  False  F -1.73761   \n",
       "2  2  Atsuto   1.86817  -0.45565  0.07658  0.09662  False  F  1.02798   \n",
       "3  3  Atsuto  -1.80073   0.08535 -0.02467  0.14032  False  F  2.02793   \n",
       "4  4     Bob   1.56943  -1.25860 -0.02092  0.22267  False  F -0.43304   \n",
       "\n",
       "        x8       x9      x10  \n",
       "0  0.22668 -2.35130  1.42092  \n",
       "1 -1.61015 -5.12219  1.87723  \n",
       "2 -0.92326 -1.67111  2.07828  \n",
       "3 -0.46318  2.41329 -0.62963  \n",
       "4 -1.99881 -1.58241  2.28423  "
      ]
     },
     "execution_count": 3,
     "metadata": {},
     "output_type": "execute_result"
    }
   ],
   "source": [
    "#Short look at the training data\n",
    "training.head()"
   ]
  },
  {
   "cell_type": "markdown",
   "metadata": {},
   "source": [
    "Y is the target variable, and x1-x10 is the independant variables. x5 and x6 looks to be categorical, while the rest looks to be numerical values."
   ]
  },
  {
   "cell_type": "code",
   "execution_count": 4,
   "metadata": {},
   "outputs": [],
   "source": [
    "#Loads evaluation data\n",
    "evaluation = pd.read_csv('EvaluateOnMe.csv')"
   ]
  },
  {
   "cell_type": "code",
   "execution_count": 5,
   "metadata": {},
   "outputs": [
    {
     "data": {
      "text/html": [
       "<div>\n",
       "<style scoped>\n",
       "    .dataframe tbody tr th:only-of-type {\n",
       "        vertical-align: middle;\n",
       "    }\n",
       "\n",
       "    .dataframe tbody tr th {\n",
       "        vertical-align: top;\n",
       "    }\n",
       "\n",
       "    .dataframe thead th {\n",
       "        text-align: right;\n",
       "    }\n",
       "</style>\n",
       "<table border=\"1\" class=\"dataframe\">\n",
       "  <thead>\n",
       "    <tr style=\"text-align: right;\">\n",
       "      <th></th>\n",
       "      <th>Unnamed: 0</th>\n",
       "      <th>x1</th>\n",
       "      <th>x2</th>\n",
       "      <th>x3</th>\n",
       "      <th>x4</th>\n",
       "      <th>x5</th>\n",
       "      <th>x6</th>\n",
       "      <th>x7</th>\n",
       "      <th>x8</th>\n",
       "      <th>x9</th>\n",
       "      <th>x10</th>\n",
       "    </tr>\n",
       "  </thead>\n",
       "  <tbody>\n",
       "    <tr>\n",
       "      <th>0</th>\n",
       "      <td>1000</td>\n",
       "      <td>2.11820</td>\n",
       "      <td>0.30064</td>\n",
       "      <td>0.11441</td>\n",
       "      <td>0.08570</td>\n",
       "      <td>True</td>\n",
       "      <td>E</td>\n",
       "      <td>-0.23694</td>\n",
       "      <td>1.34755</td>\n",
       "      <td>4.41336</td>\n",
       "      <td>0.92271</td>\n",
       "    </tr>\n",
       "    <tr>\n",
       "      <th>1</th>\n",
       "      <td>1001</td>\n",
       "      <td>0.33456</td>\n",
       "      <td>-0.08190</td>\n",
       "      <td>-0.70144</td>\n",
       "      <td>0.69276</td>\n",
       "      <td>False</td>\n",
       "      <td>F</td>\n",
       "      <td>-0.97349</td>\n",
       "      <td>-1.46992</td>\n",
       "      <td>-3.30673</td>\n",
       "      <td>0.22554</td>\n",
       "    </tr>\n",
       "    <tr>\n",
       "      <th>2</th>\n",
       "      <td>1002</td>\n",
       "      <td>1.52200</td>\n",
       "      <td>-0.50104</td>\n",
       "      <td>-1.34160</td>\n",
       "      <td>1.28651</td>\n",
       "      <td>False</td>\n",
       "      <td>F</td>\n",
       "      <td>1.59231</td>\n",
       "      <td>1.96883</td>\n",
       "      <td>-1.36040</td>\n",
       "      <td>2.68363</td>\n",
       "    </tr>\n",
       "    <tr>\n",
       "      <th>3</th>\n",
       "      <td>1003</td>\n",
       "      <td>1.27021</td>\n",
       "      <td>1.24996</td>\n",
       "      <td>-0.14228</td>\n",
       "      <td>0.15172</td>\n",
       "      <td>True</td>\n",
       "      <td>A</td>\n",
       "      <td>-0.28572</td>\n",
       "      <td>-0.85520</td>\n",
       "      <td>-3.86445</td>\n",
       "      <td>0.86683</td>\n",
       "    </tr>\n",
       "    <tr>\n",
       "      <th>4</th>\n",
       "      <td>1004</td>\n",
       "      <td>-1.91738</td>\n",
       "      <td>0.83558</td>\n",
       "      <td>-0.88311</td>\n",
       "      <td>0.95150</td>\n",
       "      <td>False</td>\n",
       "      <td>A</td>\n",
       "      <td>0.74576</td>\n",
       "      <td>2.59335</td>\n",
       "      <td>-2.41387</td>\n",
       "      <td>1.01367</td>\n",
       "    </tr>\n",
       "  </tbody>\n",
       "</table>\n",
       "</div>"
      ],
      "text/plain": [
       "   Unnamed: 0       x1       x2       x3       x4     x5 x6       x7       x8  \\\n",
       "0        1000  2.11820  0.30064  0.11441  0.08570   True  E -0.23694  1.34755   \n",
       "1        1001  0.33456 -0.08190 -0.70144  0.69276  False  F -0.97349 -1.46992   \n",
       "2        1002  1.52200 -0.50104 -1.34160  1.28651  False  F  1.59231  1.96883   \n",
       "3        1003  1.27021  1.24996 -0.14228  0.15172   True  A -0.28572 -0.85520   \n",
       "4        1004 -1.91738  0.83558 -0.88311  0.95150  False  A  0.74576  2.59335   \n",
       "\n",
       "        x9      x10  \n",
       "0  4.41336  0.92271  \n",
       "1 -3.30673  0.22554  \n",
       "2 -1.36040  2.68363  \n",
       "3 -3.86445  0.86683  \n",
       "4 -2.41387  1.01367  "
      ]
     },
     "execution_count": 5,
     "metadata": {},
     "output_type": "execute_result"
    }
   ],
   "source": [
    "evaluation.head()"
   ]
  },
  {
   "cell_type": "markdown",
   "metadata": {},
   "source": [
    "Same structure as the training data except that there is no label column which is what needs to be predicted. The output format should be a txt file with only the labels (same as in the training data) in the same order as in the evalutation data. "
   ]
  },
  {
   "cell_type": "code",
   "execution_count": 6,
   "metadata": {},
   "outputs": [
    {
     "name": "stdout",
     "output_type": "stream",
     "text": [
      "<class 'pandas.core.frame.DataFrame'>\n",
      "RangeIndex: 1001 entries, 0 to 1000\n",
      "Data columns (total 12 columns):\n",
      " #   Column  Non-Null Count  Dtype  \n",
      "---  ------  --------------  -----  \n",
      " 0   id      1001 non-null   object \n",
      " 1   y       1001 non-null   object \n",
      " 2   x1      1001 non-null   object \n",
      " 3   x2      1000 non-null   object \n",
      " 4   x3      1000 non-null   float64\n",
      " 5   x4      1000 non-null   float64\n",
      " 6   x5      1000 non-null   object \n",
      " 7   x6      1000 non-null   object \n",
      " 8   x7      1000 non-null   float64\n",
      " 9   x8      1000 non-null   float64\n",
      " 10  x9      1000 non-null   float64\n",
      " 11  x10     998 non-null    float64\n",
      "dtypes: float64(6), object(6)\n",
      "memory usage: 94.0+ KB\n"
     ]
    }
   ],
   "source": [
    "#Information on training data \n",
    "training.info()"
   ]
  },
  {
   "cell_type": "markdown",
   "metadata": {},
   "source": [
    "As we can see, x1 and x2 are Dtype 'object' and these we need to transfer to float64. Also x5 makes sense to transfer to boolean at some stage. "
   ]
  },
  {
   "cell_type": "code",
   "execution_count": 7,
   "metadata": {},
   "outputs": [
    {
     "name": "stdout",
     "output_type": "stream",
     "text": [
      "<class 'pandas.core.frame.DataFrame'>\n",
      "RangeIndex: 10000 entries, 0 to 9999\n",
      "Data columns (total 11 columns):\n",
      " #   Column      Non-Null Count  Dtype  \n",
      "---  ------      --------------  -----  \n",
      " 0   Unnamed: 0  10000 non-null  int64  \n",
      " 1   x1          10000 non-null  float64\n",
      " 2   x2          10000 non-null  float64\n",
      " 3   x3          10000 non-null  float64\n",
      " 4   x4          10000 non-null  float64\n",
      " 5   x5          10000 non-null  bool   \n",
      " 6   x6          10000 non-null  object \n",
      " 7   x7          10000 non-null  float64\n",
      " 8   x8          10000 non-null  float64\n",
      " 9   x9          10000 non-null  float64\n",
      " 10  x10         10000 non-null  float64\n",
      "dtypes: bool(1), float64(8), int64(1), object(1)\n",
      "memory usage: 791.1+ KB\n"
     ]
    }
   ],
   "source": [
    "#Information on evaluation data \n",
    "evaluation.info()"
   ]
  },
  {
   "cell_type": "markdown",
   "metadata": {},
   "source": [
    "Dtypes here looks fine so no need to do any manipulations here."
   ]
  },
  {
   "cell_type": "markdown",
   "metadata": {},
   "source": [
    "# Data cleaning and preprocessing"
   ]
  },
  {
   "cell_type": "code",
   "execution_count": 8,
   "metadata": {},
   "outputs": [],
   "source": [
    "training_v00 = training.copy()"
   ]
  },
  {
   "cell_type": "markdown",
   "metadata": {},
   "source": [
    "## Null and odd values "
   ]
  },
  {
   "cell_type": "code",
   "execution_count": 9,
   "metadata": {},
   "outputs": [
    {
     "data": {
      "text/plain": [
       "Series([], dtype: float64)"
      ]
     },
     "execution_count": 9,
     "metadata": {},
     "output_type": "execute_result"
    }
   ],
   "source": [
    "#Find columns with null values for evaluation data \n",
    "evaluation_null_columns = evaluation.columns[evaluation.isnull().any()]\n",
    "evaluation[evaluation_null_columns].isnull().sum()"
   ]
  },
  {
   "cell_type": "markdown",
   "metadata": {},
   "source": [
    "Luckily, the evaluation data set contains no null values"
   ]
  },
  {
   "cell_type": "code",
   "execution_count": 10,
   "metadata": {},
   "outputs": [
    {
     "data": {
      "text/plain": [
       "x2     1\n",
       "x3     1\n",
       "x4     1\n",
       "x5     1\n",
       "x6     1\n",
       "x7     1\n",
       "x8     1\n",
       "x9     1\n",
       "x10    3\n",
       "dtype: int64"
      ]
     },
     "execution_count": 10,
     "metadata": {},
     "output_type": "execute_result"
    }
   ],
   "source": [
    "#Find columns with null values for training data \n",
    "null_columns = training.columns[training.isnull().any()]\n",
    "training[null_columns].isnull().sum()"
   ]
  },
  {
   "cell_type": "markdown",
   "metadata": {},
   "source": [
    "However, the training data does. Let's have a quick look at them."
   ]
  },
  {
   "cell_type": "code",
   "execution_count": 11,
   "metadata": {},
   "outputs": [
    {
     "data": {
      "text/html": [
       "<div>\n",
       "<style scoped>\n",
       "    .dataframe tbody tr th:only-of-type {\n",
       "        vertical-align: middle;\n",
       "    }\n",
       "\n",
       "    .dataframe tbody tr th {\n",
       "        vertical-align: top;\n",
       "    }\n",
       "\n",
       "    .dataframe thead th {\n",
       "        text-align: right;\n",
       "    }\n",
       "</style>\n",
       "<table border=\"1\" class=\"dataframe\">\n",
       "  <thead>\n",
       "    <tr style=\"text-align: right;\">\n",
       "      <th></th>\n",
       "      <th>id</th>\n",
       "      <th>y</th>\n",
       "      <th>x1</th>\n",
       "      <th>x2</th>\n",
       "      <th>x3</th>\n",
       "      <th>x4</th>\n",
       "      <th>x5</th>\n",
       "      <th>x6</th>\n",
       "      <th>x7</th>\n",
       "      <th>x8</th>\n",
       "      <th>x9</th>\n",
       "      <th>x10</th>\n",
       "    </tr>\n",
       "  </thead>\n",
       "  <tbody>\n",
       "    <tr>\n",
       "      <th>210</th>\n",
       "      <td>210</td>\n",
       "      <td>Jörg</td>\n",
       "      <td>1.26306</td>\n",
       "      <td>-0.40346</td>\n",
       "      <td>-1.17480</td>\n",
       "      <td>1.25706</td>\n",
       "      <td>False</td>\n",
       "      <td>F</td>\n",
       "      <td>0.18570</td>\n",
       "      <td>0.91324</td>\n",
       "      <td>4.20330</td>\n",
       "      <td>NaN</td>\n",
       "    </tr>\n",
       "    <tr>\n",
       "      <th>405</th>\n",
       "      <td>405</td>\n",
       "      <td>Bob</td>\n",
       "      <td>2.19209</td>\n",
       "      <td>0.07498</td>\n",
       "      <td>-0.50459</td>\n",
       "      <td>0.62386</td>\n",
       "      <td>F</td>\n",
       "      <td>-0.46960</td>\n",
       "      <td>0.51974</td>\n",
       "      <td>-0.84861</td>\n",
       "      <td>0.76509</td>\n",
       "      <td>NaN</td>\n",
       "    </tr>\n",
       "    <tr>\n",
       "      <th>606</th>\n",
       "      <td>I said</td>\n",
       "      <td>ooh</td>\n",
       "      <td>I'm blinded by the lights</td>\n",
       "      <td>NaN</td>\n",
       "      <td>NaN</td>\n",
       "      <td>NaN</td>\n",
       "      <td>NaN</td>\n",
       "      <td>NaN</td>\n",
       "      <td>NaN</td>\n",
       "      <td>NaN</td>\n",
       "      <td>NaN</td>\n",
       "      <td>NaN</td>\n",
       "    </tr>\n",
       "  </tbody>\n",
       "</table>\n",
       "</div>"
      ],
      "text/plain": [
       "         id     y                          x1        x2       x3       x4  \\\n",
       "210     210  Jörg                     1.26306  -0.40346 -1.17480  1.25706   \n",
       "405     405   Bob                     2.19209   0.07498 -0.50459  0.62386   \n",
       "606  I said   ooh   I'm blinded by the lights       NaN      NaN      NaN   \n",
       "\n",
       "        x5        x6       x7       x8       x9  x10  \n",
       "210  False         F  0.18570  0.91324  4.20330  NaN  \n",
       "405      F  -0.46960  0.51974 -0.84861  0.76509  NaN  \n",
       "606    NaN       NaN      NaN      NaN      NaN  NaN  "
      ]
     },
     "execution_count": 11,
     "metadata": {},
     "output_type": "execute_result"
    }
   ],
   "source": [
    "#Gets all null columns \n",
    "training[training.isnull().any(axis=1)]"
   ]
  },
  {
   "cell_type": "markdown",
   "metadata": {},
   "source": [
    "Looks like we can drop these."
   ]
  },
  {
   "cell_type": "code",
   "execution_count": 12,
   "metadata": {},
   "outputs": [],
   "source": [
    "#Drop rows with NaNs\n",
    "training = training.dropna()"
   ]
  },
  {
   "cell_type": "markdown",
   "metadata": {},
   "source": [
    "Let's have a look at the values in the two categorical columns x5 and x6."
   ]
  },
  {
   "cell_type": "code",
   "execution_count": 13,
   "metadata": {},
   "outputs": [
    {
     "name": "stdout",
     "output_type": "stream",
     "text": [
      "['False', 'True', '?']\n",
      "['F', 'E', 'A', 'D', 'B', 'Fx', 'C']\n"
     ]
    }
   ],
   "source": [
    "print(training['x5'].unique().tolist())\n",
    "print(training['x6'].unique().tolist())"
   ]
  },
  {
   "cell_type": "code",
   "execution_count": 14,
   "metadata": {},
   "outputs": [
    {
     "data": {
      "text/html": [
       "<div>\n",
       "<style scoped>\n",
       "    .dataframe tbody tr th:only-of-type {\n",
       "        vertical-align: middle;\n",
       "    }\n",
       "\n",
       "    .dataframe tbody tr th {\n",
       "        vertical-align: top;\n",
       "    }\n",
       "\n",
       "    .dataframe thead th {\n",
       "        text-align: right;\n",
       "    }\n",
       "</style>\n",
       "<table border=\"1\" class=\"dataframe\">\n",
       "  <thead>\n",
       "    <tr style=\"text-align: right;\">\n",
       "      <th></th>\n",
       "      <th>id</th>\n",
       "      <th>y</th>\n",
       "      <th>x1</th>\n",
       "      <th>x2</th>\n",
       "      <th>x3</th>\n",
       "      <th>x4</th>\n",
       "      <th>x5</th>\n",
       "      <th>x6</th>\n",
       "      <th>x7</th>\n",
       "      <th>x8</th>\n",
       "      <th>x9</th>\n",
       "      <th>x10</th>\n",
       "    </tr>\n",
       "  </thead>\n",
       "  <tbody>\n",
       "    <tr>\n",
       "      <th>135</th>\n",
       "      <td>135</td>\n",
       "      <td>Bob</td>\n",
       "      <td>-0.52636</td>\n",
       "      <td>-0.26378</td>\n",
       "      <td>-0.09144</td>\n",
       "      <td>0.10429</td>\n",
       "      <td>?</td>\n",
       "      <td>F</td>\n",
       "      <td>-0.15787</td>\n",
       "      <td>0.19899</td>\n",
       "      <td>-2.71152</td>\n",
       "      <td>-0.12257</td>\n",
       "    </tr>\n",
       "    <tr>\n",
       "      <th>881</th>\n",
       "      <td>880</td>\n",
       "      <td>Atsuto</td>\n",
       "      <td>?</td>\n",
       "      <td>?</td>\n",
       "      <td>-0.98514</td>\n",
       "      <td>1.02721</td>\n",
       "      <td>?</td>\n",
       "      <td>A</td>\n",
       "      <td>2.50515</td>\n",
       "      <td>1.28566</td>\n",
       "      <td>2.53520</td>\n",
       "      <td>0.68691</td>\n",
       "    </tr>\n",
       "  </tbody>\n",
       "</table>\n",
       "</div>"
      ],
      "text/plain": [
       "      id       y        x1        x2       x3       x4 x5 x6       x7  \\\n",
       "135  135     Bob  -0.52636  -0.26378 -0.09144  0.10429  ?  F -0.15787   \n",
       "881  880  Atsuto         ?         ? -0.98514  1.02721  ?  A  2.50515   \n",
       "\n",
       "          x8       x9      x10  \n",
       "135  0.19899 -2.71152 -0.12257  \n",
       "881  1.28566  2.53520  0.68691  "
      ]
     },
     "execution_count": 14,
     "metadata": {},
     "output_type": "execute_result"
    }
   ],
   "source": [
    "training.loc[training['x5'] == '?']"
   ]
  },
  {
   "cell_type": "markdown",
   "metadata": {},
   "source": [
    "Let's also remove the question-mark rows."
   ]
  },
  {
   "cell_type": "code",
   "execution_count": 15,
   "metadata": {},
   "outputs": [],
   "source": [
    "#Drop row w. '?' in x5\n",
    "training.drop(training.loc[training['x5'] == '?'].index, inplace=True)"
   ]
  },
  {
   "cell_type": "code",
   "execution_count": 16,
   "metadata": {},
   "outputs": [
    {
     "name": "stdout",
     "output_type": "stream",
     "text": [
      "['False', 'True']\n",
      "['F', 'E', 'A', 'D', 'B', 'Fx', 'C']\n"
     ]
    }
   ],
   "source": [
    "print(training['x5'].unique().tolist())\n",
    "print(training['x6'].unique().tolist())"
   ]
  },
  {
   "cell_type": "markdown",
   "metadata": {},
   "source": [
    "Now it looks fine."
   ]
  },
  {
   "cell_type": "markdown",
   "metadata": {},
   "source": [
    "## Dtypes manipulation"
   ]
  },
  {
   "cell_type": "code",
   "execution_count": 17,
   "metadata": {},
   "outputs": [],
   "source": [
    "#Converts x1 and x2 into floats instead of objects\n",
    "training[[\"x1\", \"x2\"]] = training[[\"x1\", \"x2\"]].apply(pd.to_numeric)"
   ]
  },
  {
   "cell_type": "code",
   "execution_count": 18,
   "metadata": {},
   "outputs": [],
   "source": [
    "#Converts x5 into a boolean\n",
    "training[[\"x5\"]] = (training.x5=='True')"
   ]
  },
  {
   "cell_type": "code",
   "execution_count": 19,
   "metadata": {},
   "outputs": [
    {
     "data": {
      "text/html": [
       "<div>\n",
       "<style scoped>\n",
       "    .dataframe tbody tr th:only-of-type {\n",
       "        vertical-align: middle;\n",
       "    }\n",
       "\n",
       "    .dataframe tbody tr th {\n",
       "        vertical-align: top;\n",
       "    }\n",
       "\n",
       "    .dataframe thead th {\n",
       "        text-align: right;\n",
       "    }\n",
       "</style>\n",
       "<table border=\"1\" class=\"dataframe\">\n",
       "  <thead>\n",
       "    <tr style=\"text-align: right;\">\n",
       "      <th></th>\n",
       "      <th>id</th>\n",
       "      <th>y</th>\n",
       "      <th>x1</th>\n",
       "      <th>x2</th>\n",
       "      <th>x3</th>\n",
       "      <th>x4</th>\n",
       "      <th>x5</th>\n",
       "      <th>x6</th>\n",
       "      <th>x7</th>\n",
       "      <th>x8</th>\n",
       "      <th>x9</th>\n",
       "      <th>x10</th>\n",
       "    </tr>\n",
       "  </thead>\n",
       "  <tbody>\n",
       "    <tr>\n",
       "      <th>0</th>\n",
       "      <td>0</td>\n",
       "      <td>Bob</td>\n",
       "      <td>-0.78103</td>\n",
       "      <td>-0.63375</td>\n",
       "      <td>-0.03665</td>\n",
       "      <td>0.27517</td>\n",
       "      <td>False</td>\n",
       "      <td>F</td>\n",
       "      <td>-1.85755</td>\n",
       "      <td>0.22668</td>\n",
       "      <td>-2.35130</td>\n",
       "      <td>1.42092</td>\n",
       "    </tr>\n",
       "    <tr>\n",
       "      <th>1</th>\n",
       "      <td>1</td>\n",
       "      <td>Bob</td>\n",
       "      <td>0.42649</td>\n",
       "      <td>-0.50019</td>\n",
       "      <td>0.00696</td>\n",
       "      <td>0.11817</td>\n",
       "      <td>False</td>\n",
       "      <td>F</td>\n",
       "      <td>-1.73761</td>\n",
       "      <td>-1.61015</td>\n",
       "      <td>-5.12219</td>\n",
       "      <td>1.87723</td>\n",
       "    </tr>\n",
       "    <tr>\n",
       "      <th>2</th>\n",
       "      <td>2</td>\n",
       "      <td>Atsuto</td>\n",
       "      <td>1.86817</td>\n",
       "      <td>-0.45565</td>\n",
       "      <td>0.07658</td>\n",
       "      <td>0.09662</td>\n",
       "      <td>False</td>\n",
       "      <td>F</td>\n",
       "      <td>1.02798</td>\n",
       "      <td>-0.92326</td>\n",
       "      <td>-1.67111</td>\n",
       "      <td>2.07828</td>\n",
       "    </tr>\n",
       "    <tr>\n",
       "      <th>3</th>\n",
       "      <td>3</td>\n",
       "      <td>Atsuto</td>\n",
       "      <td>-1.80073</td>\n",
       "      <td>0.08535</td>\n",
       "      <td>-0.02467</td>\n",
       "      <td>0.14032</td>\n",
       "      <td>False</td>\n",
       "      <td>F</td>\n",
       "      <td>2.02793</td>\n",
       "      <td>-0.46318</td>\n",
       "      <td>2.41329</td>\n",
       "      <td>-0.62963</td>\n",
       "    </tr>\n",
       "    <tr>\n",
       "      <th>4</th>\n",
       "      <td>4</td>\n",
       "      <td>Bob</td>\n",
       "      <td>1.56943</td>\n",
       "      <td>-1.25860</td>\n",
       "      <td>-0.02092</td>\n",
       "      <td>0.22267</td>\n",
       "      <td>False</td>\n",
       "      <td>F</td>\n",
       "      <td>-0.43304</td>\n",
       "      <td>-1.99881</td>\n",
       "      <td>-1.58241</td>\n",
       "      <td>2.28423</td>\n",
       "    </tr>\n",
       "    <tr>\n",
       "      <th>...</th>\n",
       "      <td>...</td>\n",
       "      <td>...</td>\n",
       "      <td>...</td>\n",
       "      <td>...</td>\n",
       "      <td>...</td>\n",
       "      <td>...</td>\n",
       "      <td>...</td>\n",
       "      <td>...</td>\n",
       "      <td>...</td>\n",
       "      <td>...</td>\n",
       "      <td>...</td>\n",
       "      <td>...</td>\n",
       "    </tr>\n",
       "    <tr>\n",
       "      <th>996</th>\n",
       "      <td>995</td>\n",
       "      <td>Atsuto</td>\n",
       "      <td>1.44510</td>\n",
       "      <td>0.21567</td>\n",
       "      <td>-0.66888</td>\n",
       "      <td>0.78482</td>\n",
       "      <td>False</td>\n",
       "      <td>F</td>\n",
       "      <td>2.61427</td>\n",
       "      <td>0.36749</td>\n",
       "      <td>2.67405</td>\n",
       "      <td>2.16789</td>\n",
       "    </tr>\n",
       "    <tr>\n",
       "      <th>997</th>\n",
       "      <td>996</td>\n",
       "      <td>Bob</td>\n",
       "      <td>0.27265</td>\n",
       "      <td>0.06493</td>\n",
       "      <td>-0.20490</td>\n",
       "      <td>0.46078</td>\n",
       "      <td>False</td>\n",
       "      <td>F</td>\n",
       "      <td>-2.53548</td>\n",
       "      <td>-2.09720</td>\n",
       "      <td>-1.06034</td>\n",
       "      <td>1.31826</td>\n",
       "    </tr>\n",
       "    <tr>\n",
       "      <th>998</th>\n",
       "      <td>997</td>\n",
       "      <td>Jörg</td>\n",
       "      <td>0.35593</td>\n",
       "      <td>-0.46112</td>\n",
       "      <td>-1.15505</td>\n",
       "      <td>1.32716</td>\n",
       "      <td>False</td>\n",
       "      <td>F</td>\n",
       "      <td>1.86147</td>\n",
       "      <td>-0.48589</td>\n",
       "      <td>0.70206</td>\n",
       "      <td>0.99225</td>\n",
       "    </tr>\n",
       "    <tr>\n",
       "      <th>999</th>\n",
       "      <td>998</td>\n",
       "      <td>Atsuto</td>\n",
       "      <td>0.48402</td>\n",
       "      <td>1.44547</td>\n",
       "      <td>-0.26062</td>\n",
       "      <td>0.38700</td>\n",
       "      <td>True</td>\n",
       "      <td>A</td>\n",
       "      <td>0.01803</td>\n",
       "      <td>1.92690</td>\n",
       "      <td>3.28303</td>\n",
       "      <td>1.98225</td>\n",
       "    </tr>\n",
       "    <tr>\n",
       "      <th>1000</th>\n",
       "      <td>999</td>\n",
       "      <td>Jörg</td>\n",
       "      <td>0.33672</td>\n",
       "      <td>-0.00784</td>\n",
       "      <td>-1.07347</td>\n",
       "      <td>1.03648</td>\n",
       "      <td>False</td>\n",
       "      <td>F</td>\n",
       "      <td>-0.17967</td>\n",
       "      <td>1.08914</td>\n",
       "      <td>2.75348</td>\n",
       "      <td>-1.50266</td>\n",
       "    </tr>\n",
       "  </tbody>\n",
       "</table>\n",
       "<p>996 rows × 12 columns</p>\n",
       "</div>"
      ],
      "text/plain": [
       "       id       y       x1       x2       x3       x4     x5 x6       x7  \\\n",
       "0       0     Bob -0.78103 -0.63375 -0.03665  0.27517  False  F -1.85755   \n",
       "1       1     Bob  0.42649 -0.50019  0.00696  0.11817  False  F -1.73761   \n",
       "2       2  Atsuto  1.86817 -0.45565  0.07658  0.09662  False  F  1.02798   \n",
       "3       3  Atsuto -1.80073  0.08535 -0.02467  0.14032  False  F  2.02793   \n",
       "4       4     Bob  1.56943 -1.25860 -0.02092  0.22267  False  F -0.43304   \n",
       "...   ...     ...      ...      ...      ...      ...    ... ..      ...   \n",
       "996   995  Atsuto  1.44510  0.21567 -0.66888  0.78482  False  F  2.61427   \n",
       "997   996     Bob  0.27265  0.06493 -0.20490  0.46078  False  F -2.53548   \n",
       "998   997    Jörg  0.35593 -0.46112 -1.15505  1.32716  False  F  1.86147   \n",
       "999   998  Atsuto  0.48402  1.44547 -0.26062  0.38700   True  A  0.01803   \n",
       "1000  999    Jörg  0.33672 -0.00784 -1.07347  1.03648  False  F -0.17967   \n",
       "\n",
       "           x8       x9      x10  \n",
       "0     0.22668 -2.35130  1.42092  \n",
       "1    -1.61015 -5.12219  1.87723  \n",
       "2    -0.92326 -1.67111  2.07828  \n",
       "3    -0.46318  2.41329 -0.62963  \n",
       "4    -1.99881 -1.58241  2.28423  \n",
       "...       ...      ...      ...  \n",
       "996   0.36749  2.67405  2.16789  \n",
       "997  -2.09720 -1.06034  1.31826  \n",
       "998  -0.48589  0.70206  0.99225  \n",
       "999   1.92690  3.28303  1.98225  \n",
       "1000  1.08914  2.75348 -1.50266  \n",
       "\n",
       "[996 rows x 12 columns]"
      ]
     },
     "execution_count": 19,
     "metadata": {},
     "output_type": "execute_result"
    }
   ],
   "source": [
    "training"
   ]
  },
  {
   "cell_type": "code",
   "execution_count": 20,
   "metadata": {},
   "outputs": [
    {
     "name": "stdout",
     "output_type": "stream",
     "text": [
      "<class 'pandas.core.frame.DataFrame'>\n",
      "Int64Index: 996 entries, 0 to 1000\n",
      "Data columns (total 12 columns):\n",
      " #   Column  Non-Null Count  Dtype  \n",
      "---  ------  --------------  -----  \n",
      " 0   id      996 non-null    object \n",
      " 1   y       996 non-null    object \n",
      " 2   x1      996 non-null    float64\n",
      " 3   x2      996 non-null    float64\n",
      " 4   x3      996 non-null    float64\n",
      " 5   x4      996 non-null    float64\n",
      " 6   x5      996 non-null    bool   \n",
      " 7   x6      996 non-null    object \n",
      " 8   x7      996 non-null    float64\n",
      " 9   x8      996 non-null    float64\n",
      " 10  x9      996 non-null    float64\n",
      " 11  x10     996 non-null    float64\n",
      "dtypes: bool(1), float64(8), object(3)\n",
      "memory usage: 94.3+ KB\n"
     ]
    }
   ],
   "source": [
    "training.info()"
   ]
  },
  {
   "cell_type": "markdown",
   "metadata": {},
   "source": [
    "Now Dtype matches the evaluation data set. Next, let's change x5 and x6 into numerical values. "
   ]
  },
  {
   "cell_type": "code",
   "execution_count": 21,
   "metadata": {},
   "outputs": [],
   "source": [
    "# Training data: Replaces x5 and x6 into numerical values \n",
    "training['x5'] = training['x5'].replace({True:1,False:0})\n",
    "training['x6'] = training['x6'].replace({'Fx':0, 'F':1, 'E':2, 'D':3, 'C':4, 'B':5, 'A':6})"
   ]
  },
  {
   "cell_type": "markdown",
   "metadata": {},
   "source": [
    "The conversion needs to be done for the evaluation data as well"
   ]
  },
  {
   "cell_type": "code",
   "execution_count": 22,
   "metadata": {},
   "outputs": [],
   "source": [
    "# Evaluation data: Replaces x5 and x6 into numerical values \n",
    "evaluation['x5'] = evaluation['x5'].replace({True:1,False:0})\n",
    "evaluation['x6'] = evaluation['x6'].replace({'Fx':0, 'F':1, 'E':2, 'D':3, 'C':4, 'B':5, 'A':6})"
   ]
  },
  {
   "cell_type": "markdown",
   "metadata": {},
   "source": [
    "## Remove outliers "
   ]
  },
  {
   "cell_type": "code",
   "execution_count": 23,
   "metadata": {},
   "outputs": [],
   "source": [
    "# Training data: Z-value \n",
    "z_training = np.abs(stats.zscore(training.iloc[:, 2:]))"
   ]
  },
  {
   "cell_type": "code",
   "execution_count": 24,
   "metadata": {},
   "outputs": [
    {
     "name": "stdout",
     "output_type": "stream",
     "text": [
      "19\n",
      "2\n",
      "2\n"
     ]
    }
   ],
   "source": [
    "# Training data: Nr. of outliers over 3,4,5 stds\n",
    "traing_z_3 = np.where(z_training > 3)[0]\n",
    "traing_z_4 = np.where(z_training > 4)[0]\n",
    "traing_z_5 = np.where(z_training > 5)[0]\n",
    "\n",
    "print(len(traing_z_3))\n",
    "print(len(traing_z_4))\n",
    "print(len(traing_z_5))"
   ]
  },
  {
   "cell_type": "code",
   "execution_count": 25,
   "metadata": {},
   "outputs": [
    {
     "name": "stdout",
     "output_type": "stream",
     "text": [
      "[450 536]\n"
     ]
    }
   ],
   "source": [
    "print(np.where(z_training > 4)[0])"
   ]
  },
  {
   "cell_type": "code",
   "execution_count": 26,
   "metadata": {},
   "outputs": [
    {
     "data": {
      "text/plain": [
       "array([ 23,  51,  68, 127, 135, 271, 288, 305, 307, 329, 386, 450, 479,\n",
       "       483, 509, 536, 577, 602, 961])"
      ]
     },
     "execution_count": 26,
     "metadata": {},
     "output_type": "execute_result"
    }
   ],
   "source": [
    "np.where(z_training > 3)[0]"
   ]
  },
  {
   "cell_type": "markdown",
   "metadata": {},
   "source": [
    "As we can see, only two outliners occurs outside the 4std, while 21 occur outsid 3 stds. Let's make two verison, where we drop entires outside 4std vs 3stds. "
   ]
  },
  {
   "cell_type": "code",
   "execution_count": 27,
   "metadata": {},
   "outputs": [],
   "source": [
    "training_v01 = training.copy()"
   ]
  },
  {
   "cell_type": "code",
   "execution_count": 28,
   "metadata": {},
   "outputs": [],
   "source": [
    "# Removes entries with an outlier value above 4std\n",
    "for entry_index in traing_z_4:\n",
    "        training.drop(entry_index, inplace=True)"
   ]
  },
  {
   "cell_type": "code",
   "execution_count": 29,
   "metadata": {},
   "outputs": [],
   "source": [
    "# Saves the '4stds' verison \n",
    "training_v02 = training.copy()"
   ]
  },
  {
   "cell_type": "code",
   "execution_count": 30,
   "metadata": {},
   "outputs": [],
   "source": [
    "# Repeates for 3std\n",
    "for entry_index in traing_z_3:\n",
    "    if (entry_index!= 135): #Index doesn't exist\n",
    "        training_v01.drop(entry_index, inplace=True)"
   ]
  },
  {
   "cell_type": "code",
   "execution_count": 31,
   "metadata": {},
   "outputs": [],
   "source": [
    "# Saves the '3stds' verison \n",
    "training_v03 = training_v01.copy()"
   ]
  },
  {
   "cell_type": "code",
   "execution_count": 32,
   "metadata": {},
   "outputs": [],
   "source": [
    "# Optionality of what version to use onwards\n",
    "training = training_v02"
   ]
  },
  {
   "cell_type": "markdown",
   "metadata": {},
   "source": [
    "Let's have a quick look at outliers for the evaluation data set."
   ]
  },
  {
   "cell_type": "code",
   "execution_count": 33,
   "metadata": {},
   "outputs": [],
   "source": [
    "# Evaluation data: Z-value \n",
    "z_evaluation = np.abs(stats.zscore(evaluation.iloc[:, 1:]))"
   ]
  },
  {
   "cell_type": "code",
   "execution_count": 34,
   "metadata": {},
   "outputs": [
    {
     "name": "stdout",
     "output_type": "stream",
     "text": [
      "225\n",
      "10\n",
      "1\n"
     ]
    }
   ],
   "source": [
    "# Evaluation data: Nr. of outliers over 3,4,5 stds\n",
    "evaluation_z_3 = np.where(z_evaluation> 3)[0]\n",
    "evaluation_z_4 = np.where(z_evaluation > 4)[0]\n",
    "evaluation_z_5 = np.where(z_evaluation > 5)[0]\n",
    "\n",
    "print(len(evaluation_z_3))\n",
    "print(len(evaluation_z_4))\n",
    "print(len(evaluation_z_5))"
   ]
  },
  {
   "cell_type": "markdown",
   "metadata": {},
   "source": [
    "There are quite a lot more outliers for the evaluation data set. However, let's keep this as the assignment requires it."
   ]
  },
  {
   "cell_type": "markdown",
   "metadata": {},
   "source": [
    "## Data scaling"
   ]
  },
  {
   "cell_type": "code",
   "execution_count": 35,
   "metadata": {},
   "outputs": [],
   "source": [
    "from sklearn import preprocessing\n",
    "\n",
    "# gets the numerical columns\n",
    "training_to_be_scaled = training.iloc[:, 2:]\n",
    "evalaution_to_be_scaled = evaluation.iloc[:, 1:]\n",
    "\n",
    "# build the scaler model \n",
    "mm_scaler = preprocessing.MinMaxScaler()\n",
    "\n",
    "# fits using training data \n",
    "training_normalized = mm_scaler.fit_transform(training_to_be_scaled)\n",
    "\n",
    "# transform the test data\n",
    "evaluation_normalized = mm_scaler.transform(evalaution_to_be_scaled)"
   ]
  },
  {
   "cell_type": "code",
   "execution_count": 36,
   "metadata": {},
   "outputs": [],
   "source": [
    "# replaces columns with new normalized data\n",
    "training.iloc[:, 2:] = training_normalized\n",
    "evaluation.iloc[:, 1:] = evaluation_normalized"
   ]
  },
  {
   "cell_type": "code",
   "execution_count": 37,
   "metadata": {},
   "outputs": [
    {
     "data": {
      "text/html": [
       "<div>\n",
       "<style scoped>\n",
       "    .dataframe tbody tr th:only-of-type {\n",
       "        vertical-align: middle;\n",
       "    }\n",
       "\n",
       "    .dataframe tbody tr th {\n",
       "        vertical-align: top;\n",
       "    }\n",
       "\n",
       "    .dataframe thead th {\n",
       "        text-align: right;\n",
       "    }\n",
       "</style>\n",
       "<table border=\"1\" class=\"dataframe\">\n",
       "  <thead>\n",
       "    <tr style=\"text-align: right;\">\n",
       "      <th></th>\n",
       "      <th>x1</th>\n",
       "      <th>x2</th>\n",
       "      <th>x3</th>\n",
       "      <th>x4</th>\n",
       "      <th>x5</th>\n",
       "      <th>x6</th>\n",
       "      <th>x7</th>\n",
       "      <th>x8</th>\n",
       "      <th>x9</th>\n",
       "      <th>x10</th>\n",
       "    </tr>\n",
       "  </thead>\n",
       "  <tbody>\n",
       "    <tr>\n",
       "      <th>count</th>\n",
       "      <td>994.000000</td>\n",
       "      <td>994.000000</td>\n",
       "      <td>994.000000</td>\n",
       "      <td>994.000000</td>\n",
       "      <td>994.000000</td>\n",
       "      <td>994.000000</td>\n",
       "      <td>994.000000</td>\n",
       "      <td>994.000000</td>\n",
       "      <td>994.000000</td>\n",
       "      <td>994.000000</td>\n",
       "    </tr>\n",
       "    <tr>\n",
       "      <th>mean</th>\n",
       "      <td>0.523820</td>\n",
       "      <td>0.481054</td>\n",
       "      <td>0.549554</td>\n",
       "      <td>0.425941</td>\n",
       "      <td>0.311871</td>\n",
       "      <td>0.399564</td>\n",
       "      <td>0.993781</td>\n",
       "      <td>0.001016</td>\n",
       "      <td>0.456156</td>\n",
       "      <td>0.461207</td>\n",
       "    </tr>\n",
       "    <tr>\n",
       "      <th>std</th>\n",
       "      <td>0.139235</td>\n",
       "      <td>0.156797</td>\n",
       "      <td>0.215183</td>\n",
       "      <td>0.243859</td>\n",
       "      <td>0.463491</td>\n",
       "      <td>0.359732</td>\n",
       "      <td>0.031585</td>\n",
       "      <td>0.031718</td>\n",
       "      <td>0.150203</td>\n",
       "      <td>0.140564</td>\n",
       "    </tr>\n",
       "    <tr>\n",
       "      <th>min</th>\n",
       "      <td>0.000000</td>\n",
       "      <td>0.000000</td>\n",
       "      <td>0.000000</td>\n",
       "      <td>0.000000</td>\n",
       "      <td>0.000000</td>\n",
       "      <td>0.000000</td>\n",
       "      <td>0.000000</td>\n",
       "      <td>0.000000</td>\n",
       "      <td>0.000000</td>\n",
       "      <td>0.000000</td>\n",
       "    </tr>\n",
       "    <tr>\n",
       "      <th>25%</th>\n",
       "      <td>0.421097</td>\n",
       "      <td>0.375868</td>\n",
       "      <td>0.401619</td>\n",
       "      <td>0.232265</td>\n",
       "      <td>0.000000</td>\n",
       "      <td>0.166667</td>\n",
       "      <td>0.993748</td>\n",
       "      <td>0.000007</td>\n",
       "      <td>0.354722</td>\n",
       "      <td>0.371087</td>\n",
       "    </tr>\n",
       "    <tr>\n",
       "      <th>50%</th>\n",
       "      <td>0.529301</td>\n",
       "      <td>0.477663</td>\n",
       "      <td>0.559414</td>\n",
       "      <td>0.409696</td>\n",
       "      <td>0.000000</td>\n",
       "      <td>0.166667</td>\n",
       "      <td>0.994489</td>\n",
       "      <td>0.000009</td>\n",
       "      <td>0.428034</td>\n",
       "      <td>0.459422</td>\n",
       "    </tr>\n",
       "    <tr>\n",
       "      <th>75%</th>\n",
       "      <td>0.618484</td>\n",
       "      <td>0.588579</td>\n",
       "      <td>0.720193</td>\n",
       "      <td>0.592912</td>\n",
       "      <td>1.000000</td>\n",
       "      <td>0.833333</td>\n",
       "      <td>0.995745</td>\n",
       "      <td>0.000012</td>\n",
       "      <td>0.524978</td>\n",
       "      <td>0.547551</td>\n",
       "    </tr>\n",
       "    <tr>\n",
       "      <th>max</th>\n",
       "      <td>1.000000</td>\n",
       "      <td>1.000000</td>\n",
       "      <td>1.000000</td>\n",
       "      <td>1.000000</td>\n",
       "      <td>1.000000</td>\n",
       "      <td>1.000000</td>\n",
       "      <td>1.000000</td>\n",
       "      <td>1.000000</td>\n",
       "      <td>1.000000</td>\n",
       "      <td>1.000000</td>\n",
       "    </tr>\n",
       "  </tbody>\n",
       "</table>\n",
       "</div>"
      ],
      "text/plain": [
       "               x1          x2          x3          x4          x5          x6  \\\n",
       "count  994.000000  994.000000  994.000000  994.000000  994.000000  994.000000   \n",
       "mean     0.523820    0.481054    0.549554    0.425941    0.311871    0.399564   \n",
       "std      0.139235    0.156797    0.215183    0.243859    0.463491    0.359732   \n",
       "min      0.000000    0.000000    0.000000    0.000000    0.000000    0.000000   \n",
       "25%      0.421097    0.375868    0.401619    0.232265    0.000000    0.166667   \n",
       "50%      0.529301    0.477663    0.559414    0.409696    0.000000    0.166667   \n",
       "75%      0.618484    0.588579    0.720193    0.592912    1.000000    0.833333   \n",
       "max      1.000000    1.000000    1.000000    1.000000    1.000000    1.000000   \n",
       "\n",
       "               x7          x8          x9         x10  \n",
       "count  994.000000  994.000000  994.000000  994.000000  \n",
       "mean     0.993781    0.001016    0.456156    0.461207  \n",
       "std      0.031585    0.031718    0.150203    0.140564  \n",
       "min      0.000000    0.000000    0.000000    0.000000  \n",
       "25%      0.993748    0.000007    0.354722    0.371087  \n",
       "50%      0.994489    0.000009    0.428034    0.459422  \n",
       "75%      0.995745    0.000012    0.524978    0.547551  \n",
       "max      1.000000    1.000000    1.000000    1.000000  "
      ]
     },
     "execution_count": 37,
     "metadata": {},
     "output_type": "execute_result"
    }
   ],
   "source": [
    "training.describe()"
   ]
  },
  {
   "cell_type": "code",
   "execution_count": 38,
   "metadata": {},
   "outputs": [
    {
     "data": {
      "text/html": [
       "<div>\n",
       "<style scoped>\n",
       "    .dataframe tbody tr th:only-of-type {\n",
       "        vertical-align: middle;\n",
       "    }\n",
       "\n",
       "    .dataframe tbody tr th {\n",
       "        vertical-align: top;\n",
       "    }\n",
       "\n",
       "    .dataframe thead th {\n",
       "        text-align: right;\n",
       "    }\n",
       "</style>\n",
       "<table border=\"1\" class=\"dataframe\">\n",
       "  <thead>\n",
       "    <tr style=\"text-align: right;\">\n",
       "      <th></th>\n",
       "      <th>Unnamed: 0</th>\n",
       "      <th>x1</th>\n",
       "      <th>x2</th>\n",
       "      <th>x3</th>\n",
       "      <th>x4</th>\n",
       "      <th>x5</th>\n",
       "      <th>x6</th>\n",
       "      <th>x7</th>\n",
       "      <th>x8</th>\n",
       "      <th>x9</th>\n",
       "      <th>x10</th>\n",
       "    </tr>\n",
       "  </thead>\n",
       "  <tbody>\n",
       "    <tr>\n",
       "      <th>count</th>\n",
       "      <td>10000.00000</td>\n",
       "      <td>10000.000000</td>\n",
       "      <td>10000.000000</td>\n",
       "      <td>10000.000000</td>\n",
       "      <td>10000.000000</td>\n",
       "      <td>10000.000000</td>\n",
       "      <td>10000.000000</td>\n",
       "      <td>10000.000000</td>\n",
       "      <td>10000.000000</td>\n",
       "      <td>10000.000000</td>\n",
       "      <td>10000.000000</td>\n",
       "    </tr>\n",
       "    <tr>\n",
       "      <th>mean</th>\n",
       "      <td>5999.50000</td>\n",
       "      <td>0.520504</td>\n",
       "      <td>0.480157</td>\n",
       "      <td>0.539123</td>\n",
       "      <td>0.437695</td>\n",
       "      <td>0.302000</td>\n",
       "      <td>0.394050</td>\n",
       "      <td>0.994868</td>\n",
       "      <td>0.000010</td>\n",
       "      <td>0.453142</td>\n",
       "      <td>0.450136</td>\n",
       "    </tr>\n",
       "    <tr>\n",
       "      <th>std</th>\n",
       "      <td>2886.89568</td>\n",
       "      <td>0.144615</td>\n",
       "      <td>0.156131</td>\n",
       "      <td>0.220593</td>\n",
       "      <td>0.249852</td>\n",
       "      <td>0.459148</td>\n",
       "      <td>0.355240</td>\n",
       "      <td>0.001414</td>\n",
       "      <td>0.000005</td>\n",
       "      <td>0.151275</td>\n",
       "      <td>0.143116</td>\n",
       "    </tr>\n",
       "    <tr>\n",
       "      <th>min</th>\n",
       "      <td>1000.00000</td>\n",
       "      <td>0.000965</td>\n",
       "      <td>-0.175827</td>\n",
       "      <td>-0.049516</td>\n",
       "      <td>-0.005057</td>\n",
       "      <td>0.000000</td>\n",
       "      <td>0.000000</td>\n",
       "      <td>0.990733</td>\n",
       "      <td>-0.000002</td>\n",
       "      <td>-0.022730</td>\n",
       "      <td>-0.095565</td>\n",
       "    </tr>\n",
       "    <tr>\n",
       "      <th>25%</th>\n",
       "      <td>3499.75000</td>\n",
       "      <td>0.422937</td>\n",
       "      <td>0.376717</td>\n",
       "      <td>0.385426</td>\n",
       "      <td>0.239432</td>\n",
       "      <td>0.000000</td>\n",
       "      <td>0.166667</td>\n",
       "      <td>0.993786</td>\n",
       "      <td>0.000007</td>\n",
       "      <td>0.349768</td>\n",
       "      <td>0.358277</td>\n",
       "    </tr>\n",
       "    <tr>\n",
       "      <th>50%</th>\n",
       "      <td>5999.50000</td>\n",
       "      <td>0.520470</td>\n",
       "      <td>0.478218</td>\n",
       "      <td>0.551380</td>\n",
       "      <td>0.424861</td>\n",
       "      <td>0.000000</td>\n",
       "      <td>0.166667</td>\n",
       "      <td>0.994606</td>\n",
       "      <td>0.000009</td>\n",
       "      <td>0.426107</td>\n",
       "      <td>0.450516</td>\n",
       "    </tr>\n",
       "    <tr>\n",
       "      <th>75%</th>\n",
       "      <td>8499.25000</td>\n",
       "      <td>0.618472</td>\n",
       "      <td>0.584585</td>\n",
       "      <td>0.714029</td>\n",
       "      <td>0.603241</td>\n",
       "      <td>1.000000</td>\n",
       "      <td>0.666667</td>\n",
       "      <td>0.995850</td>\n",
       "      <td>0.000012</td>\n",
       "      <td>0.531968</td>\n",
       "      <td>0.542950</td>\n",
       "    </tr>\n",
       "    <tr>\n",
       "      <th>max</th>\n",
       "      <td>10999.00000</td>\n",
       "      <td>1.013341</td>\n",
       "      <td>1.044756</td>\n",
       "      <td>1.006999</td>\n",
       "      <td>1.025942</td>\n",
       "      <td>1.000000</td>\n",
       "      <td>1.000000</td>\n",
       "      <td>1.001246</td>\n",
       "      <td>0.000037</td>\n",
       "      <td>1.116798</td>\n",
       "      <td>1.053366</td>\n",
       "    </tr>\n",
       "  </tbody>\n",
       "</table>\n",
       "</div>"
      ],
      "text/plain": [
       "        Unnamed: 0            x1            x2            x3            x4  \\\n",
       "count  10000.00000  10000.000000  10000.000000  10000.000000  10000.000000   \n",
       "mean    5999.50000      0.520504      0.480157      0.539123      0.437695   \n",
       "std     2886.89568      0.144615      0.156131      0.220593      0.249852   \n",
       "min     1000.00000      0.000965     -0.175827     -0.049516     -0.005057   \n",
       "25%     3499.75000      0.422937      0.376717      0.385426      0.239432   \n",
       "50%     5999.50000      0.520470      0.478218      0.551380      0.424861   \n",
       "75%     8499.25000      0.618472      0.584585      0.714029      0.603241   \n",
       "max    10999.00000      1.013341      1.044756      1.006999      1.025942   \n",
       "\n",
       "                 x5            x6            x7            x8            x9  \\\n",
       "count  10000.000000  10000.000000  10000.000000  10000.000000  10000.000000   \n",
       "mean       0.302000      0.394050      0.994868      0.000010      0.453142   \n",
       "std        0.459148      0.355240      0.001414      0.000005      0.151275   \n",
       "min        0.000000      0.000000      0.990733     -0.000002     -0.022730   \n",
       "25%        0.000000      0.166667      0.993786      0.000007      0.349768   \n",
       "50%        0.000000      0.166667      0.994606      0.000009      0.426107   \n",
       "75%        1.000000      0.666667      0.995850      0.000012      0.531968   \n",
       "max        1.000000      1.000000      1.001246      0.000037      1.116798   \n",
       "\n",
       "                x10  \n",
       "count  10000.000000  \n",
       "mean       0.450136  \n",
       "std        0.143116  \n",
       "min       -0.095565  \n",
       "25%        0.358277  \n",
       "50%        0.450516  \n",
       "75%        0.542950  \n",
       "max        1.053366  "
      ]
     },
     "execution_count": 38,
     "metadata": {},
     "output_type": "execute_result"
    }
   ],
   "source": [
    "evaluation.describe()"
   ]
  },
  {
   "cell_type": "code",
   "execution_count": 39,
   "metadata": {},
   "outputs": [
    {
     "data": {
      "text/html": [
       "<div>\n",
       "<style scoped>\n",
       "    .dataframe tbody tr th:only-of-type {\n",
       "        vertical-align: middle;\n",
       "    }\n",
       "\n",
       "    .dataframe tbody tr th {\n",
       "        vertical-align: top;\n",
       "    }\n",
       "\n",
       "    .dataframe thead th {\n",
       "        text-align: right;\n",
       "    }\n",
       "</style>\n",
       "<table border=\"1\" class=\"dataframe\">\n",
       "  <thead>\n",
       "    <tr style=\"text-align: right;\">\n",
       "      <th></th>\n",
       "      <th>id</th>\n",
       "      <th>y</th>\n",
       "      <th>x1</th>\n",
       "      <th>x2</th>\n",
       "      <th>x3</th>\n",
       "      <th>x4</th>\n",
       "      <th>x5</th>\n",
       "      <th>x6</th>\n",
       "      <th>x7</th>\n",
       "      <th>x8</th>\n",
       "      <th>x9</th>\n",
       "      <th>x10</th>\n",
       "    </tr>\n",
       "  </thead>\n",
       "  <tbody>\n",
       "    <tr>\n",
       "      <th>0</th>\n",
       "      <td>0</td>\n",
       "      <td>Bob</td>\n",
       "      <td>0.444311</td>\n",
       "      <td>0.379826</td>\n",
       "      <td>0.765631</td>\n",
       "      <td>0.235080</td>\n",
       "      <td>0.0</td>\n",
       "      <td>0.166667</td>\n",
       "      <td>0.993005</td>\n",
       "      <td>0.000011</td>\n",
       "      <td>0.354455</td>\n",
       "      <td>0.492029</td>\n",
       "    </tr>\n",
       "    <tr>\n",
       "      <th>1</th>\n",
       "      <td>1</td>\n",
       "      <td>Bob</td>\n",
       "      <td>0.566118</td>\n",
       "      <td>0.400527</td>\n",
       "      <td>0.788616</td>\n",
       "      <td>0.126758</td>\n",
       "      <td>0.0</td>\n",
       "      <td>0.166667</td>\n",
       "      <td>0.993124</td>\n",
       "      <td>0.000005</td>\n",
       "      <td>0.146140</td>\n",
       "      <td>0.542626</td>\n",
       "    </tr>\n",
       "    <tr>\n",
       "      <th>2</th>\n",
       "      <td>2</td>\n",
       "      <td>Atsuto</td>\n",
       "      <td>0.711546</td>\n",
       "      <td>0.407430</td>\n",
       "      <td>0.825309</td>\n",
       "      <td>0.111889</td>\n",
       "      <td>0.0</td>\n",
       "      <td>0.166667</td>\n",
       "      <td>0.995873</td>\n",
       "      <td>0.000007</td>\n",
       "      <td>0.405591</td>\n",
       "      <td>0.564919</td>\n",
       "    </tr>\n",
       "    <tr>\n",
       "      <th>3</th>\n",
       "      <td>3</td>\n",
       "      <td>Atsuto</td>\n",
       "      <td>0.341449</td>\n",
       "      <td>0.491282</td>\n",
       "      <td>0.771945</td>\n",
       "      <td>0.142040</td>\n",
       "      <td>0.0</td>\n",
       "      <td>0.166667</td>\n",
       "      <td>0.996867</td>\n",
       "      <td>0.000009</td>\n",
       "      <td>0.712655</td>\n",
       "      <td>0.264657</td>\n",
       "    </tr>\n",
       "    <tr>\n",
       "      <th>4</th>\n",
       "      <td>4</td>\n",
       "      <td>Bob</td>\n",
       "      <td>0.681411</td>\n",
       "      <td>0.282979</td>\n",
       "      <td>0.773922</td>\n",
       "      <td>0.198857</td>\n",
       "      <td>0.0</td>\n",
       "      <td>0.166667</td>\n",
       "      <td>0.994421</td>\n",
       "      <td>0.000004</td>\n",
       "      <td>0.412259</td>\n",
       "      <td>0.587755</td>\n",
       "    </tr>\n",
       "    <tr>\n",
       "      <th>...</th>\n",
       "      <td>...</td>\n",
       "      <td>...</td>\n",
       "      <td>...</td>\n",
       "      <td>...</td>\n",
       "      <td>...</td>\n",
       "      <td>...</td>\n",
       "      <td>...</td>\n",
       "      <td>...</td>\n",
       "      <td>...</td>\n",
       "      <td>...</td>\n",
       "      <td>...</td>\n",
       "      <td>...</td>\n",
       "    </tr>\n",
       "    <tr>\n",
       "      <th>996</th>\n",
       "      <td>995</td>\n",
       "      <td>Atsuto</td>\n",
       "      <td>0.668869</td>\n",
       "      <td>0.511480</td>\n",
       "      <td>0.432414</td>\n",
       "      <td>0.586713</td>\n",
       "      <td>0.0</td>\n",
       "      <td>0.166667</td>\n",
       "      <td>0.997450</td>\n",
       "      <td>0.000012</td>\n",
       "      <td>0.732258</td>\n",
       "      <td>0.574855</td>\n",
       "    </tr>\n",
       "    <tr>\n",
       "      <th>997</th>\n",
       "      <td>996</td>\n",
       "      <td>Bob</td>\n",
       "      <td>0.550599</td>\n",
       "      <td>0.488117</td>\n",
       "      <td>0.676955</td>\n",
       "      <td>0.363141</td>\n",
       "      <td>0.0</td>\n",
       "      <td>0.166667</td>\n",
       "      <td>0.992331</td>\n",
       "      <td>0.000004</td>\n",
       "      <td>0.451508</td>\n",
       "      <td>0.480645</td>\n",
       "    </tr>\n",
       "    <tr>\n",
       "      <th>998</th>\n",
       "      <td>997</td>\n",
       "      <td>Jörg</td>\n",
       "      <td>0.559000</td>\n",
       "      <td>0.406583</td>\n",
       "      <td>0.176177</td>\n",
       "      <td>0.960901</td>\n",
       "      <td>0.0</td>\n",
       "      <td>0.166667</td>\n",
       "      <td>0.996702</td>\n",
       "      <td>0.000009</td>\n",
       "      <td>0.584005</td>\n",
       "      <td>0.444496</td>\n",
       "    </tr>\n",
       "    <tr>\n",
       "      <th>999</th>\n",
       "      <td>998</td>\n",
       "      <td>Atsuto</td>\n",
       "      <td>0.571921</td>\n",
       "      <td>0.702091</td>\n",
       "      <td>0.647587</td>\n",
       "      <td>0.312237</td>\n",
       "      <td>1.0</td>\n",
       "      <td>1.000000</td>\n",
       "      <td>0.994869</td>\n",
       "      <td>0.000017</td>\n",
       "      <td>0.778041</td>\n",
       "      <td>0.554271</td>\n",
       "    </tr>\n",
       "    <tr>\n",
       "      <th>1000</th>\n",
       "      <td>999</td>\n",
       "      <td>Jörg</td>\n",
       "      <td>0.557062</td>\n",
       "      <td>0.476838</td>\n",
       "      <td>0.219174</td>\n",
       "      <td>0.760346</td>\n",
       "      <td>0.0</td>\n",
       "      <td>0.166667</td>\n",
       "      <td>0.994673</td>\n",
       "      <td>0.000014</td>\n",
       "      <td>0.738230</td>\n",
       "      <td>0.167852</td>\n",
       "    </tr>\n",
       "  </tbody>\n",
       "</table>\n",
       "<p>994 rows × 12 columns</p>\n",
       "</div>"
      ],
      "text/plain": [
       "       id       y        x1        x2        x3        x4   x5        x6  \\\n",
       "0       0     Bob  0.444311  0.379826  0.765631  0.235080  0.0  0.166667   \n",
       "1       1     Bob  0.566118  0.400527  0.788616  0.126758  0.0  0.166667   \n",
       "2       2  Atsuto  0.711546  0.407430  0.825309  0.111889  0.0  0.166667   \n",
       "3       3  Atsuto  0.341449  0.491282  0.771945  0.142040  0.0  0.166667   \n",
       "4       4     Bob  0.681411  0.282979  0.773922  0.198857  0.0  0.166667   \n",
       "...   ...     ...       ...       ...       ...       ...  ...       ...   \n",
       "996   995  Atsuto  0.668869  0.511480  0.432414  0.586713  0.0  0.166667   \n",
       "997   996     Bob  0.550599  0.488117  0.676955  0.363141  0.0  0.166667   \n",
       "998   997    Jörg  0.559000  0.406583  0.176177  0.960901  0.0  0.166667   \n",
       "999   998  Atsuto  0.571921  0.702091  0.647587  0.312237  1.0  1.000000   \n",
       "1000  999    Jörg  0.557062  0.476838  0.219174  0.760346  0.0  0.166667   \n",
       "\n",
       "            x7        x8        x9       x10  \n",
       "0     0.993005  0.000011  0.354455  0.492029  \n",
       "1     0.993124  0.000005  0.146140  0.542626  \n",
       "2     0.995873  0.000007  0.405591  0.564919  \n",
       "3     0.996867  0.000009  0.712655  0.264657  \n",
       "4     0.994421  0.000004  0.412259  0.587755  \n",
       "...        ...       ...       ...       ...  \n",
       "996   0.997450  0.000012  0.732258  0.574855  \n",
       "997   0.992331  0.000004  0.451508  0.480645  \n",
       "998   0.996702  0.000009  0.584005  0.444496  \n",
       "999   0.994869  0.000017  0.778041  0.554271  \n",
       "1000  0.994673  0.000014  0.738230  0.167852  \n",
       "\n",
       "[994 rows x 12 columns]"
      ]
     },
     "execution_count": 39,
     "metadata": {},
     "output_type": "execute_result"
    }
   ],
   "source": [
    "training"
   ]
  },
  {
   "cell_type": "code",
   "execution_count": 40,
   "metadata": {},
   "outputs": [
    {
     "data": {
      "text/html": [
       "<div>\n",
       "<style scoped>\n",
       "    .dataframe tbody tr th:only-of-type {\n",
       "        vertical-align: middle;\n",
       "    }\n",
       "\n",
       "    .dataframe tbody tr th {\n",
       "        vertical-align: top;\n",
       "    }\n",
       "\n",
       "    .dataframe thead th {\n",
       "        text-align: right;\n",
       "    }\n",
       "</style>\n",
       "<table border=\"1\" class=\"dataframe\">\n",
       "  <thead>\n",
       "    <tr style=\"text-align: right;\">\n",
       "      <th></th>\n",
       "      <th>Unnamed: 0</th>\n",
       "      <th>x1</th>\n",
       "      <th>x2</th>\n",
       "      <th>x3</th>\n",
       "      <th>x4</th>\n",
       "      <th>x5</th>\n",
       "      <th>x6</th>\n",
       "      <th>x7</th>\n",
       "      <th>x8</th>\n",
       "      <th>x9</th>\n",
       "      <th>x10</th>\n",
       "    </tr>\n",
       "  </thead>\n",
       "  <tbody>\n",
       "    <tr>\n",
       "      <th>0</th>\n",
       "      <td>1000</td>\n",
       "      <td>0.736767</td>\n",
       "      <td>0.524650</td>\n",
       "      <td>0.845247</td>\n",
       "      <td>0.104355</td>\n",
       "      <td>1.0</td>\n",
       "      <td>0.333333</td>\n",
       "      <td>0.994616</td>\n",
       "      <td>0.000015</td>\n",
       "      <td>0.863019</td>\n",
       "      <td>0.436785</td>\n",
       "    </tr>\n",
       "    <tr>\n",
       "      <th>1</th>\n",
       "      <td>1001</td>\n",
       "      <td>0.556845</td>\n",
       "      <td>0.465359</td>\n",
       "      <td>0.415253</td>\n",
       "      <td>0.523196</td>\n",
       "      <td>0.0</td>\n",
       "      <td>0.166667</td>\n",
       "      <td>0.993884</td>\n",
       "      <td>0.000006</td>\n",
       "      <td>0.282626</td>\n",
       "      <td>0.359481</td>\n",
       "    </tr>\n",
       "    <tr>\n",
       "      <th>2</th>\n",
       "      <td>1002</td>\n",
       "      <td>0.676626</td>\n",
       "      <td>0.400395</td>\n",
       "      <td>0.077856</td>\n",
       "      <td>0.932854</td>\n",
       "      <td>0.0</td>\n",
       "      <td>0.166667</td>\n",
       "      <td>0.996434</td>\n",
       "      <td>0.000017</td>\n",
       "      <td>0.428950</td>\n",
       "      <td>0.632042</td>\n",
       "    </tr>\n",
       "    <tr>\n",
       "      <th>3</th>\n",
       "      <td>1003</td>\n",
       "      <td>0.651227</td>\n",
       "      <td>0.671788</td>\n",
       "      <td>0.709959</td>\n",
       "      <td>0.149905</td>\n",
       "      <td>1.0</td>\n",
       "      <td>1.000000</td>\n",
       "      <td>0.994567</td>\n",
       "      <td>0.000008</td>\n",
       "      <td>0.240697</td>\n",
       "      <td>0.430589</td>\n",
       "    </tr>\n",
       "    <tr>\n",
       "      <th>4</th>\n",
       "      <td>1004</td>\n",
       "      <td>0.329682</td>\n",
       "      <td>0.607562</td>\n",
       "      <td>0.319504</td>\n",
       "      <td>0.701714</td>\n",
       "      <td>0.0</td>\n",
       "      <td>1.000000</td>\n",
       "      <td>0.995593</td>\n",
       "      <td>0.000019</td>\n",
       "      <td>0.349751</td>\n",
       "      <td>0.446871</td>\n",
       "    </tr>\n",
       "    <tr>\n",
       "      <th>...</th>\n",
       "      <td>...</td>\n",
       "      <td>...</td>\n",
       "      <td>...</td>\n",
       "      <td>...</td>\n",
       "      <td>...</td>\n",
       "      <td>...</td>\n",
       "      <td>...</td>\n",
       "      <td>...</td>\n",
       "      <td>...</td>\n",
       "      <td>...</td>\n",
       "      <td>...</td>\n",
       "    </tr>\n",
       "    <tr>\n",
       "      <th>9995</th>\n",
       "      <td>10995</td>\n",
       "      <td>0.343283</td>\n",
       "      <td>0.683538</td>\n",
       "      <td>0.779482</td>\n",
       "      <td>0.137597</td>\n",
       "      <td>1.0</td>\n",
       "      <td>1.000000</td>\n",
       "      <td>0.993421</td>\n",
       "      <td>0.000008</td>\n",
       "      <td>0.522527</td>\n",
       "      <td>0.517707</td>\n",
       "    </tr>\n",
       "    <tr>\n",
       "      <th>9996</th>\n",
       "      <td>10996</td>\n",
       "      <td>0.561572</td>\n",
       "      <td>0.403735</td>\n",
       "      <td>0.661992</td>\n",
       "      <td>0.208123</td>\n",
       "      <td>0.0</td>\n",
       "      <td>0.166667</td>\n",
       "      <td>0.994133</td>\n",
       "      <td>0.000001</td>\n",
       "      <td>0.432435</td>\n",
       "      <td>0.262286</td>\n",
       "    </tr>\n",
       "    <tr>\n",
       "      <th>9997</th>\n",
       "      <td>10997</td>\n",
       "      <td>0.515899</td>\n",
       "      <td>0.470168</td>\n",
       "      <td>0.297800</td>\n",
       "      <td>0.700865</td>\n",
       "      <td>0.0</td>\n",
       "      <td>0.166667</td>\n",
       "      <td>0.995066</td>\n",
       "      <td>0.000013</td>\n",
       "      <td>0.837564</td>\n",
       "      <td>0.673553</td>\n",
       "    </tr>\n",
       "    <tr>\n",
       "      <th>9998</th>\n",
       "      <td>10998</td>\n",
       "      <td>0.430651</td>\n",
       "      <td>0.513692</td>\n",
       "      <td>-0.010183</td>\n",
       "      <td>1.000876</td>\n",
       "      <td>0.0</td>\n",
       "      <td>0.166667</td>\n",
       "      <td>0.993483</td>\n",
       "      <td>0.000012</td>\n",
       "      <td>0.583407</td>\n",
       "      <td>0.610083</td>\n",
       "    </tr>\n",
       "    <tr>\n",
       "      <th>9999</th>\n",
       "      <td>10999</td>\n",
       "      <td>0.638456</td>\n",
       "      <td>0.481106</td>\n",
       "      <td>0.387140</td>\n",
       "      <td>0.530372</td>\n",
       "      <td>0.0</td>\n",
       "      <td>0.166667</td>\n",
       "      <td>0.994111</td>\n",
       "      <td>0.000009</td>\n",
       "      <td>0.379765</td>\n",
       "      <td>0.351141</td>\n",
       "    </tr>\n",
       "  </tbody>\n",
       "</table>\n",
       "<p>10000 rows × 11 columns</p>\n",
       "</div>"
      ],
      "text/plain": [
       "      Unnamed: 0        x1        x2        x3        x4   x5        x6  \\\n",
       "0           1000  0.736767  0.524650  0.845247  0.104355  1.0  0.333333   \n",
       "1           1001  0.556845  0.465359  0.415253  0.523196  0.0  0.166667   \n",
       "2           1002  0.676626  0.400395  0.077856  0.932854  0.0  0.166667   \n",
       "3           1003  0.651227  0.671788  0.709959  0.149905  1.0  1.000000   \n",
       "4           1004  0.329682  0.607562  0.319504  0.701714  0.0  1.000000   \n",
       "...          ...       ...       ...       ...       ...  ...       ...   \n",
       "9995       10995  0.343283  0.683538  0.779482  0.137597  1.0  1.000000   \n",
       "9996       10996  0.561572  0.403735  0.661992  0.208123  0.0  0.166667   \n",
       "9997       10997  0.515899  0.470168  0.297800  0.700865  0.0  0.166667   \n",
       "9998       10998  0.430651  0.513692 -0.010183  1.000876  0.0  0.166667   \n",
       "9999       10999  0.638456  0.481106  0.387140  0.530372  0.0  0.166667   \n",
       "\n",
       "            x7        x8        x9       x10  \n",
       "0     0.994616  0.000015  0.863019  0.436785  \n",
       "1     0.993884  0.000006  0.282626  0.359481  \n",
       "2     0.996434  0.000017  0.428950  0.632042  \n",
       "3     0.994567  0.000008  0.240697  0.430589  \n",
       "4     0.995593  0.000019  0.349751  0.446871  \n",
       "...        ...       ...       ...       ...  \n",
       "9995  0.993421  0.000008  0.522527  0.517707  \n",
       "9996  0.994133  0.000001  0.432435  0.262286  \n",
       "9997  0.995066  0.000013  0.837564  0.673553  \n",
       "9998  0.993483  0.000012  0.583407  0.610083  \n",
       "9999  0.994111  0.000009  0.379765  0.351141  \n",
       "\n",
       "[10000 rows x 11 columns]"
      ]
     },
     "execution_count": 40,
     "metadata": {},
     "output_type": "execute_result"
    }
   ],
   "source": [
    "evaluation"
   ]
  },
  {
   "cell_type": "markdown",
   "metadata": {},
   "source": [
    "# Dimensionality reduction"
   ]
  },
  {
   "cell_type": "markdown",
   "metadata": {},
   "source": [
    "## Feature elimination: \n",
    "Reduce the feature space by eliminating features"
   ]
  },
  {
   "cell_type": "code",
   "execution_count": 41,
   "metadata": {},
   "outputs": [],
   "source": [
    "# generating the correlation matrix\n",
    "corr = training.iloc[:, 2:].corr()"
   ]
  },
  {
   "cell_type": "code",
   "execution_count": 42,
   "metadata": {},
   "outputs": [
    {
     "data": {
      "image/png": "[encoded data removed]",
      "text/plain": [
       "<Figure size 432x288 with 2 Axes>"
      ]
     },
     "metadata": {
      "needs_background": "light"
     },
     "output_type": "display_data"
    }
   ],
   "source": [
    "# generating the correlation heat-map\n",
    "ax = sns.heatmap(corr, annot = True, vmin = -1, vmax = 1, center = 0)\n",
    "plt.yticks(rotation = 0)\n",
    "ax.invert_yaxis()\n",
    "plt.show()"
   ]
  },
  {
   "cell_type": "markdown",
   "metadata": {},
   "source": [
    "As seen in above correlation heatmap, some features have a high correlation which can be beneficial to remove to avoid “Multicollinearity” (When one predictor variable in a multiple regression model can be linearly predicted from the others with a high degree of accuracy. This can lead to skewed or misleading results.)\n",
    "\n",
    "x3 and x4 have a strong negative correlation - let's remove the latter. \n",
    "\n",
    "x5 and X6 have a strongly positive correlation - let's remove the first(x5 likely to be passed or failed, while x6 is the grading).\n",
    "\n",
    "x5 and x6, both have a high correlation with x2 as well - let's remove x2. \n",
    "\n",
    "Same procedure for training and evaluation data set. "
   ]
  },
  {
   "cell_type": "code",
   "execution_count": 43,
   "metadata": {},
   "outputs": [],
   "source": [
    "training_feature_v00 = training.copy()\n",
    "evaluation_feature_v00 = evaluation.copy()"
   ]
  },
  {
   "cell_type": "code",
   "execution_count": 44,
   "metadata": {},
   "outputs": [],
   "source": [
    "training.drop('x4', axis=1, inplace=True)\n",
    "evaluation.drop('x4', axis=1, inplace=True)"
   ]
  },
  {
   "cell_type": "code",
   "execution_count": 45,
   "metadata": {},
   "outputs": [],
   "source": [
    "training_feature_v01 = training.copy() # 'x4' column is dropped\n",
    "evaluation_feature_v01 = evaluation.copy() # 'x4' column is dropped"
   ]
  },
  {
   "cell_type": "code",
   "execution_count": 46,
   "metadata": {},
   "outputs": [],
   "source": [
    "training.drop('x5', axis=1, inplace=True)\n",
    "evaluation.drop('x5', axis=1, inplace=True)"
   ]
  },
  {
   "cell_type": "code",
   "execution_count": 47,
   "metadata": {},
   "outputs": [],
   "source": [
    "training_feature_v02 = training.copy() # 'x5' column is dropped\n",
    "evaluation_feature_v02 = evaluation.copy() # 'x5' column is dropped"
   ]
  },
  {
   "cell_type": "code",
   "execution_count": 48,
   "metadata": {},
   "outputs": [],
   "source": [
    "training.drop('x2', axis=1, inplace=True)\n",
    "evaluation.drop('x2', axis=1, inplace=True)"
   ]
  },
  {
   "cell_type": "code",
   "execution_count": 49,
   "metadata": {},
   "outputs": [],
   "source": [
    "training_feature_v03 = training.copy() # 'x2' column is dropped\n",
    "evaluation_feature_v03 = evaluation.copy() # 'x2' column is dropped"
   ]
  },
  {
   "cell_type": "markdown",
   "metadata": {},
   "source": [
    "# Model building and comparison"
   ]
  },
  {
   "cell_type": "code",
   "execution_count": 50,
   "metadata": {},
   "outputs": [],
   "source": [
    "from sklearn.model_selection import train_test_split\n",
    "from sklearn.model_selection import cross_val_score\n",
    "from sklearn.svm import SVC\n",
    "from sklearn.neighbors import KNeighborsClassifier\n",
    "from sklearn.linear_model import LogisticRegression\n",
    "from scipy.stats import uniform\n",
    "from sklearn.naive_bayes import GaussianNB\n",
    "from sklearn.ensemble import RandomForestClassifier\n",
    "from sklearn.ensemble import VotingClassifier\n",
    "from sklearn.ensemble import AdaBoostClassifier\n",
    "from sklearn.ensemble import GradientBoostingClassifier\n",
    "from sklearn.ensemble import BaggingClassifier\n",
    "from sklearn.tree import DecisionTreeClassifier"
   ]
  },
  {
   "cell_type": "code",
   "execution_count": 51,
   "metadata": {},
   "outputs": [],
   "source": [
    "# Version of training data to be used\n",
    "training = training_feature_v03"
   ]
  },
  {
   "cell_type": "code",
   "execution_count": 52,
   "metadata": {},
   "outputs": [],
   "source": [
    "# Seperates dependent and independent columns\n",
    "X = training.iloc[:, 2:]\n",
    "y = training.iloc[:, 1:2].values.ravel()"
   ]
  },
  {
   "cell_type": "code",
   "execution_count": 53,
   "metadata": {},
   "outputs": [],
   "source": [
    "# Builds different classifiers\n",
    "clf1 = SVC(kernel='linear')\n",
    "clf2 = KNeighborsClassifier(n_neighbors=20)\n",
    "clf3 = LogisticRegression(random_state=1, C = 1.0866604153639479, penalty = 'l2')\n",
    "clf9 = DecisionTreeClassifier()\n",
    "clf4 = RandomForestClassifier(n_estimators=25, random_state=100, max_depth = 4)\n",
    "clf5 = GaussianNB()\n",
    "clf6 = AdaBoostClassifier(n_estimators=100, base_estimator = clf9)\n",
    "clf7 = GradientBoostingClassifier(n_estimators=125, learning_rate=0.1, max_depth=3, random_state = True)\n",
    "clf8 = BaggingClassifier(DecisionTreeClassifier())\n",
    "eclf = VotingClassifier(\n",
    "    estimators=[('rf', clf4), ('gb', clf7)\n",
    "               ,('nb', clf5)\n",
    "                #, ('gb', clf6)\n",
    "               ],\n",
    "    voting='soft' , weights=[3, 4, 1]\n",
    "    )\n"
   ]
  },
  {
   "cell_type": "code",
   "execution_count": 54,
   "metadata": {},
   "outputs": [
    {
     "name": "stdout",
     "output_type": "stream",
     "text": [
      "Accuracy: 0.65 (+/- 0.00) [Support Vector Machines]\n",
      "Accuracy: 0.70 (+/- 0.01) [K-nearest neighbour]\n",
      "Accuracy: 0.67 (+/- 0.02) [Logistic Regression]\n",
      "Accuracy: 0.85 (+/- 0.03) [Random Forest]\n",
      "Accuracy: 0.61 (+/- 0.11) [naive Bayes]\n",
      "Accuracy: 0.78 (+/- 0.01) [AdaBoost]\n",
      "Accuracy: 0.87 (+/- 0.03) [Gradient Boosting]\n",
      "Accuracy: 0.82 (+/- 0.04) [Bagging KNN]\n",
      "Accuracy: 0.78 (+/- 0.02) [Decision tree]\n",
      "Accuracy: 0.87 (+/- 0.04) [Ensemble]\n"
     ]
    }
   ],
   "source": [
    "for clf, label in zip([clf1, clf2, clf3, clf4, clf5, clf6, clf7, clf8, clf9, eclf], ['Support Vector Machines',\n",
    "                                                                   'K-nearest neighbour','Logistic Regression', \n",
    "                                                                   'Random Forest', 'naive Bayes', \n",
    "                                                                   'AdaBoost', 'Gradient Boosting',\n",
    "                                                                    'Bagging KNN', 'Decision tree', 'Ensemble']):\n",
    "    scores = cross_val_score(clf, X, y, scoring='accuracy', cv=5)\n",
    "    print(\"Accuracy: %0.2f (+/- %0.2f) [%s]\" % (scores.mean(), scores.std(), label))"
   ]
  },
  {
   "cell_type": "markdown",
   "metadata": {},
   "source": [
    "## Hyperparameter optimization"
   ]
  },
  {
   "cell_type": "code",
   "execution_count": 55,
   "metadata": {},
   "outputs": [],
   "source": [
    "from sklearn.model_selection import RandomizedSearchCV"
   ]
  },
  {
   "cell_type": "markdown",
   "metadata": {},
   "source": [
    "### Random forest "
   ]
  },
  {
   "cell_type": "code",
   "execution_count": 56,
   "metadata": {},
   "outputs": [],
   "source": [
    "n_estimators = [10, 15, 25, 50, 75, 100, 125, 150]\n",
    "max_depth = [2, 3, 4]\n",
    "\n",
    "parameters = dict(n_estimators = n_estimators, max_depth = max_depth)\n",
    "\n",
    "#clf = RandomizedSearchCV(clf4, parameters, cv = 5, verbose = 1, \n",
    "#                      n_jobs = -1)\n",
    "#search = clf.fit(X, y)\n",
    "#\n",
    "#search.best_params_"
   ]
  },
  {
   "cell_type": "markdown",
   "metadata": {},
   "source": [
    "Returns hyperparameters: {'n_estimators': 50, 'max_depth': 4}"
   ]
  },
  {
   "cell_type": "markdown",
   "metadata": {},
   "source": [
    "### Gradient boosting"
   ]
  },
  {
   "cell_type": "code",
   "execution_count": 57,
   "metadata": {},
   "outputs": [],
   "source": [
    "n_estimators = [25, 50, 75, 100, 125, 150]\n",
    "max_depth = [2, 3, 4, 5, 6]\n",
    "learning_rate = [0.01,0.1,0.3, 0.5, 1, 1.5]\n",
    "min_samples_split = [5,10,25,50,75,100,300]\n",
    "random_state = [True, False]\n",
    "\n",
    "#parameters = dict(n_estimators = n_estimators, max_depth = max_depth,  \n",
    "#              learning_rate = learning_rate, min_samples_split = min_samples_split,\n",
    "#              random_state = random_state    \n",
    "#                 )\n",
    "#\n",
    "#clf = RandomizedSearchCV(clf7, parameters, cv = 5, verbose = 1, \n",
    "#                      n_jobs = -1)\n",
    "#search =clf.fit(X, y)\n",
    "#\n",
    "#search.best_params_"
   ]
  },
  {
   "cell_type": "markdown",
   "metadata": {},
   "source": [
    "Returns hyperparameters: {'random_state': True,\n",
    " 'n_estimators': 150,\n",
    " 'min_samples_split': 100,\n",
    " 'max_depth': 4,\n",
    " 'learning_rate': 0.1}"
   ]
  },
  {
   "cell_type": "markdown",
   "metadata": {},
   "source": [
    "### K-nearest neighbour"
   ]
  },
  {
   "cell_type": "code",
   "execution_count": 58,
   "metadata": {},
   "outputs": [],
   "source": [
    "n_neighbors = [2,5,10,15,17,20,22,25,30]\n",
    "\n",
    "parameters = dict(n_neighbors = n_neighbors)\n",
    "\n",
    "#clf = RandomizedSearchCV(clf2, parameters, cv = 5, verbose = 1, \n",
    "#                      n_jobs = -1)\n",
    "#search = clf.fit(X, y)\n",
    "#\n",
    "#search.best_params_"
   ]
  },
  {
   "cell_type": "markdown",
   "metadata": {},
   "source": [
    "Returns hyperparameters: {'n_neighbors': 20}"
   ]
  },
  {
   "cell_type": "markdown",
   "metadata": {},
   "source": [
    "### Support Vector Machines"
   ]
  },
  {
   "cell_type": "code",
   "execution_count": 59,
   "metadata": {},
   "outputs": [],
   "source": [
    "kernel = ['linear', 'poly', 'rbf']\n",
    "\n",
    "parameters = dict(kernel = kernel)\n",
    "\n",
    "#clf = RandomizedSearchCV(clf1, parameters, cv = 5, verbose = 1, \n",
    "#                      n_jobs = -1)\n",
    "#search = clf.fit(X, y)\n",
    "#\n",
    "#search.best_params_"
   ]
  },
  {
   "cell_type": "markdown",
   "metadata": {},
   "source": [
    "Returns hyperparameters: {'kernel': 'poly'}"
   ]
  },
  {
   "cell_type": "markdown",
   "metadata": {},
   "source": [
    "### Logistic Regression"
   ]
  },
  {
   "cell_type": "code",
   "execution_count": 60,
   "metadata": {},
   "outputs": [],
   "source": [
    "parameters = dict(C=uniform(loc=0, scale=4),\n",
    "                     penalty=['l2', 'l1'])\n",
    "\n",
    "#clf = RandomizedSearchCV(clf3, parameters, cv = 5, verbose = 1, \n",
    "#                      n_jobs = -1)\n",
    "#search = clf.fit(X, y)\n",
    "#\n",
    "#search.best_params_"
   ]
  },
  {
   "cell_type": "markdown",
   "metadata": {},
   "source": [
    "Returns hyperparameters: {'C': 1.0866604153639479, 'penalty': 'l2'}"
   ]
  },
  {
   "cell_type": "markdown",
   "metadata": {},
   "source": [
    "### AdaBoost"
   ]
  },
  {
   "cell_type": "code",
   "execution_count": 61,
   "metadata": {},
   "outputs": [],
   "source": [
    "n_estimators= [100]\n",
    "base_estimator = [clf5, clf9]\n",
    "\n",
    "parameters = dict(n_estimators = n_estimators, base_estimator = base_estimator)\n",
    "\n",
    "#clf = RandomizedSearchCV(clf6, parameters, cv = 5, verbose = 1, \n",
    "#                      n_jobs = -1)\n",
    "#search = clf.fit(X, y)\n",
    "#\n",
    "#search.best_params_"
   ]
  },
  {
   "cell_type": "markdown",
   "metadata": {},
   "source": [
    "### Bagging KNN"
   ]
  },
  {
   "cell_type": "markdown",
   "metadata": {},
   "source": [
    "### Ensemble"
   ]
  },
  {
   "cell_type": "code",
   "execution_count": 62,
   "metadata": {},
   "outputs": [],
   "source": [
    "#voting= ['soft', 'hard']\n",
    "weights=[[5,2,1],[5, 3, 1],[5,3,2], [3,4,1], [2,4,1], [3,5,1], [3,4,2]]\n",
    "\n",
    "parameters = dict(weights=weights)\n",
    "\n",
    "#clf = RandomizedSearchCV(eclf, parameters, cv = 5, verbose = 1, \n",
    "#                      n_jobs = -1)\n",
    "#search = clf.fit(X, y)\n",
    "#\n",
    "#search.best_params_"
   ]
  },
  {
   "cell_type": "markdown",
   "metadata": {},
   "source": [
    "Returns hyperparameters: {'weights': [3, 4, 1]}"
   ]
  },
  {
   "cell_type": "markdown",
   "metadata": {},
   "source": [
    "## Final comparison "
   ]
  },
  {
   "cell_type": "code",
   "execution_count": 63,
   "metadata": {},
   "outputs": [],
   "source": [
    "# Builds different classifiers\n",
    "clf1 = SVC(kernel='linear')\n",
    "clf2 = KNeighborsClassifier(n_neighbors=20)\n",
    "clf3 = LogisticRegression(random_state=1, C = 1.0866604153639479, penalty = 'l2')\n",
    "clf4 = RandomForestClassifier(n_estimators=25, random_state=100, max_depth = 4)\n",
    "clf5 = GaussianNB()\n",
    "clf6 = AdaBoostClassifier(n_estimators=100, base_estimator = clf9)\n",
    "clf7 = GradientBoostingClassifier(n_estimators=125, learning_rate=0.1, max_depth=3, random_state = 1)\n",
    "clf8 = BaggingClassifier(DecisionTreeClassifier())\n",
    "clf9 = DecisionTreeClassifier()\n",
    "eclf = VotingClassifier(\n",
    "    estimators=[('rf', clf4), ('gb', clf7)\n",
    "               ,('nb', clf5)\n",
    "                #, ('gb', clf6)\n",
    "               ],\n",
    "    voting='soft' , weights=[3, 4, 1]\n",
    "    )"
   ]
  },
  {
   "cell_type": "code",
   "execution_count": 64,
   "metadata": {},
   "outputs": [
    {
     "name": "stdout",
     "output_type": "stream",
     "text": [
      "Accuracy: 0.65 (+/- 0.00) [Support Vector Machines]\n",
      "Accuracy: 0.70 (+/- 0.01) [K-nearest neighbour]\n",
      "Accuracy: 0.67 (+/- 0.02) [Logistic Regression]\n",
      "Accuracy: 0.85 (+/- 0.03) [Random Forest]\n",
      "Accuracy: 0.61 (+/- 0.11) [naive Bayes]\n",
      "Accuracy: 0.79 (+/- 0.02) [AdaBoost]\n",
      "Accuracy: 0.87 (+/- 0.03) [Gradient Boosting]\n",
      "Accuracy: 0.83 (+/- 0.03) [Bagging KNN]\n",
      "Accuracy: 0.78 (+/- 0.02) [Decision tree]\n",
      "Accuracy: 0.87 (+/- 0.04) [Ensemble]\n"
     ]
    }
   ],
   "source": [
    "for clf, label in zip([clf1, clf2, clf3, clf4, clf5, clf6, clf7, clf8, clf9, eclf], ['Support Vector Machines',\n",
    "                                                                   'K-nearest neighbour','Logistic Regression', \n",
    "                                                                   'Random Forest', 'naive Bayes', \n",
    "                                                                   'AdaBoost', 'Gradient Boosting',\n",
    "                                                                    'Bagging KNN', 'Decision tree', 'Ensemble']):\n",
    "    scores = cross_val_score(clf, X, y, scoring='accuracy', cv=5)\n",
    "    print(\"Accuracy: %0.2f (+/- %0.2f) [%s]\" % (scores.mean(), scores.std(), label))"
   ]
  },
  {
   "cell_type": "markdown",
   "metadata": {},
   "source": [
    "Gradient boost seems to be superior. Let's use that."
   ]
  },
  {
   "cell_type": "markdown",
   "metadata": {},
   "source": [
    "# Evaluation prediction "
   ]
  },
  {
   "cell_type": "code",
   "execution_count": 65,
   "metadata": {},
   "outputs": [],
   "source": [
    "from sklearn.model_selection import KFold\n",
    "from sklearn.metrics import accuracy_score\n",
    "import statistics "
   ]
  },
  {
   "cell_type": "code",
   "execution_count": 66,
   "metadata": {},
   "outputs": [],
   "source": [
    "e_test = evaluation_feature_v03.iloc[:, 1:]"
   ]
  },
  {
   "cell_type": "code",
   "execution_count": 67,
   "metadata": {},
   "outputs": [],
   "source": [
    "X = training.iloc[:, 2:]\n",
    "y = training.iloc[:, 1:2].values.ravel()"
   ]
  },
  {
   "cell_type": "code",
   "execution_count": 68,
   "metadata": {},
   "outputs": [],
   "source": [
    "# selected model\n",
    "clf = GradientBoostingClassifier(n_estimators=125, learning_rate=0.1, max_depth=3, random_state = 1)\n",
    "#clf = VotingClassifier(\n",
    "#    estimators=[('rf', clf4), ('gb', clf7)\n",
    "#               ,('nb', clf5)\n",
    "#                #, ('gb', clf6)\n",
    "#               ],\n",
    "#    voting='soft' , weights=[3, 4, 1]\n",
    "#    )"
   ]
  },
  {
   "cell_type": "code",
   "execution_count": 69,
   "metadata": {},
   "outputs": [],
   "source": [
    "## k-fold apporoach\n",
    "#kf = KFold(n_splits=5,shuffle=False)\n",
    "#kf.split(X) \n",
    "#\n",
    "## collects model accuracy scores\n",
    "#scores = []\n",
    "#\n",
    "## iterate over k fold splits\n",
    "#for train_index, test_index in kf.split(X):\n",
    "#    # splits into train and test \n",
    "#    X_train, X_test = X.iloc[train_index], X.iloc[test_index]\n",
    "#    y_train, y_test = y[train_index], y[test_index]\n",
    "#    # model training\n",
    "#    model = clf.fit(X_train, y_train)\n",
    "#    # appends to score\n",
    "#    scores.append(accuracy_score(y_test, model.predict(X_test), normalize=True)*100)\n",
    "#    \n",
    "## print the accuracy    \n",
    "#print(\"Accuracy: %0.2f (+/- %0.2f)\" % (statistics.mean(scores), statistics.stdev(scores)))"
   ]
  },
  {
   "cell_type": "code",
   "execution_count": 70,
   "metadata": {},
   "outputs": [
    {
     "data": {
      "text/plain": [
       "GradientBoostingClassifier(n_estimators=125, random_state=1)"
      ]
     },
     "execution_count": 70,
     "metadata": {},
     "output_type": "execute_result"
    }
   ],
   "source": [
    "# Split dataset into training set and test set\n",
    "#X_train, X_test, y_train, y_test = train_test_split(X, y, test_size = 0.2)\n",
    "\n",
    "# model training\n",
    "clf.fit(X, y)\n",
    "\n",
    "#y_pred = clf.predict(X_test)\n",
    "\n",
    "# print the accuracy \n",
    "#print(accuracy_score(y_test,y_pred))"
   ]
  },
  {
   "cell_type": "code",
   "execution_count": 71,
   "metadata": {},
   "outputs": [],
   "source": [
    "evaluation_predict = clf.predict(e_test)"
   ]
  },
  {
   "cell_type": "code",
   "execution_count": 72,
   "metadata": {},
   "outputs": [
    {
     "data": {
      "text/html": [
       "<div>\n",
       "<style scoped>\n",
       "    .dataframe tbody tr th:only-of-type {\n",
       "        vertical-align: middle;\n",
       "    }\n",
       "\n",
       "    .dataframe tbody tr th {\n",
       "        vertical-align: top;\n",
       "    }\n",
       "\n",
       "    .dataframe thead th {\n",
       "        text-align: right;\n",
       "    }\n",
       "</style>\n",
       "<table border=\"1\" class=\"dataframe\">\n",
       "  <thead>\n",
       "    <tr style=\"text-align: right;\">\n",
       "      <th></th>\n",
       "      <th>0</th>\n",
       "    </tr>\n",
       "  </thead>\n",
       "  <tbody>\n",
       "    <tr>\n",
       "      <th>0</th>\n",
       "      <td>Atsuto</td>\n",
       "    </tr>\n",
       "    <tr>\n",
       "      <th>1</th>\n",
       "      <td>Bob</td>\n",
       "    </tr>\n",
       "    <tr>\n",
       "      <th>2</th>\n",
       "      <td>Jörg</td>\n",
       "    </tr>\n",
       "    <tr>\n",
       "      <th>3</th>\n",
       "      <td>Bob</td>\n",
       "    </tr>\n",
       "    <tr>\n",
       "      <th>4</th>\n",
       "      <td>Atsuto</td>\n",
       "    </tr>\n",
       "    <tr>\n",
       "      <th>...</th>\n",
       "      <td>...</td>\n",
       "    </tr>\n",
       "    <tr>\n",
       "      <th>9995</th>\n",
       "      <td>Bob</td>\n",
       "    </tr>\n",
       "    <tr>\n",
       "      <th>9996</th>\n",
       "      <td>Bob</td>\n",
       "    </tr>\n",
       "    <tr>\n",
       "      <th>9997</th>\n",
       "      <td>Atsuto</td>\n",
       "    </tr>\n",
       "    <tr>\n",
       "      <th>9998</th>\n",
       "      <td>Jörg</td>\n",
       "    </tr>\n",
       "    <tr>\n",
       "      <th>9999</th>\n",
       "      <td>Bob</td>\n",
       "    </tr>\n",
       "  </tbody>\n",
       "</table>\n",
       "<p>10000 rows × 1 columns</p>\n",
       "</div>"
      ],
      "text/plain": [
       "           0\n",
       "0     Atsuto\n",
       "1        Bob\n",
       "2       Jörg\n",
       "3        Bob\n",
       "4     Atsuto\n",
       "...      ...\n",
       "9995     Bob\n",
       "9996     Bob\n",
       "9997  Atsuto\n",
       "9998    Jörg\n",
       "9999     Bob\n",
       "\n",
       "[10000 rows x 1 columns]"
      ]
     },
     "execution_count": 72,
     "metadata": {},
     "output_type": "execute_result"
    }
   ],
   "source": [
    "final = pd.DataFrame(evaluation_predict)\n",
    "final"
   ]
  },
  {
   "cell_type": "markdown",
   "metadata": {},
   "source": [
    "# Hand-in configuration "
   ]
  },
  {
   "cell_type": "code",
   "execution_count": 73,
   "metadata": {},
   "outputs": [],
   "source": [
    "#with open('test2.txt', 'w') as f:\n",
    "#    for item in evaluation_predict.tolist():\n",
    "#        f.write(\"%s\\n\" % item)"
   ]
  },
  {
   "cell_type": "code",
   "execution_count": 74,
   "metadata": {},
   "outputs": [],
   "source": [
    "with open('101235.txt', 'w') as f:\n",
    "    for item in evaluation_predict.tolist():\n",
    "        f.write(\"%s\\n\" % item)"
   ]
  },
  {
   "cell_type": "code",
   "execution_count": null,
   "metadata": {},
   "outputs": [],
   "source": []
  }
 ],
 "metadata": {
  "kernelspec": {
   "display_name": "Python 3",
   "language": "python",
   "name": "python3"
  },
  "language_info": {
   "codemirror_mode": {
    "name": "ipython",
    "version": 3
   },
   "file_extension": ".py",
   "mimetype": "text/x-python",
   "name": "python",
   "nbconvert_exporter": "python",
   "pygments_lexer": "ipython3",
   "version": "3.8.5"
  },
  "toc": {
   "base_numbering": 1,
   "nav_menu": {},
   "number_sections": true,
   "sideBar": true,
   "skip_h1_title": false,
   "title_cell": "Table of Contents",
   "title_sidebar": "Contents",
   "toc_cell": false,
   "toc_position": {},
   "toc_section_display": true,
   "toc_window_display": false
  }
 },
 "nbformat": 4,
 "nbformat_minor": 4
}
